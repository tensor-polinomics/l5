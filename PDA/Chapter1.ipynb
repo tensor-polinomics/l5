{
 "cells": [
  {
   "cell_type": "markdown",
   "id": "3333a590",
   "metadata": {},
   "source": [
    "# Chapter 1. Preliminaries\n",
    "\n",
    "Python is becoming a dominating system for data analytics. There is a rich Python ecosystem, including:\n",
    "- *NumPy*: NumPy arrays are often the primary data structure for most common data analysis.\n",
    "- *pandas*: Despite the complaint about the speed and memory consumption about pandas, it remains as the primary tool for tabular data.\n",
    "- *matplotlib* as a backend plotting tool\n",
    "- *IPython* and *Jupyter*\n",
    "- *SciPy* for scientific computing\n",
    "- *scikit-learn* for most machine learning tasks\n",
    "- *statsmodels* for more traditional statistical analysis"
   ]
  },
  {
   "cell_type": "markdown",
   "id": "8bc6f90f",
   "metadata": {},
   "source": []
  },
  {
   "cell_type": "code",
   "execution_count": null,
   "id": "29afca18",
   "metadata": {},
   "outputs": [],
   "source": []
  }
 ],
 "metadata": {
  "kernelspec": {
   "display_name": "Python 3.12 (l5)",
   "language": "python",
   "name": "l5-312"
  },
  "language_info": {
   "codemirror_mode": {
    "name": "ipython",
    "version": 3
   },
   "file_extension": ".py",
   "mimetype": "text/x-python",
   "name": "python",
   "nbconvert_exporter": "python",
   "pygments_lexer": "ipython3",
   "version": "3.13.7"
  }
 },
 "nbformat": 4,
 "nbformat_minor": 5
}
