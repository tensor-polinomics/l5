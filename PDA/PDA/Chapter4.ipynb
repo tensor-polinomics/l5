{
 "cells": [
  {
   "cell_type": "markdown",
   "id": "3cb5c075",
   "metadata": {},
   "source": [
    "# Chapter 4. NumPy Basics: Arrays and Vectorized Computation\n",
    "\n",
    "*NumPy* is the *lingua francas* of numerical data exchange in the Python data science ecosystem:\n",
    "- `ndarry` is an efficient multidimensional array with fast computing abilities\n",
    "- tools for reading/writing array data to disy and working with memory-mapped files\n",
    "- Linear algebra, random number generation, and FFT\n",
    "- A C-API\n",
    "\n",
    "In this chatper, we will learn some important data analysis using NumPy:\n",
    "- `ndarry` arithmetic, indexing, slicing, Boolean and fancy indexing, transposing\n",
    "- Pseudorandom number generation\n",
    "- Universal Functions (`ufunc`)\n",
    "- Array-oriented programming\n",
    "- File I/S with arrays\n",
    "- Linear algebra\n",
    "- An example—random walks"
   ]
  },
  {
   "cell_type": "code",
   "execution_count": null,
   "id": "a9f3c19b",
   "metadata": {},
   "outputs": [
    {
     "data": {
      "text/plain": [
       "2"
      ]
     },
     "execution_count": 12,
     "metadata": {},
     "output_type": "execute_result"
    }
   ],
   "source": [
    "# Let's practice with ndarry\n",
    "import numpy as np\n",
    "\n",
    "data = np.array([[1.5, -0.1, 3],[0, -3, 6.5]])\n",
    "\n",
    "# Three key attributes: ndim, shape, dtype\n",
    "data.shape # (2, 3)\n",
    "data.dtype # dtype('float64')\n",
    "data.ndim # 2"
   ]
  },
  {
   "cell_type": "code",
   "execution_count": null,
   "id": "62731bfb",
   "metadata": {},
   "outputs": [
    {
     "data": {
      "text/plain": [
       "array([3, 3])"
      ]
     },
     "execution_count": 23,
     "metadata": {},
     "output_type": "execute_result"
    }
   ],
   "source": [
    "# Creating ndarry\n",
    "data1 = [6, 7, 8, 1, 2, 4]\n",
    "data1_array = np.array(data1)\n",
    "data1_array # array([6, 7, 8, 1, 2, 4])\n",
    "\n",
    "# reshape\n",
    "data1_array = data1_array.reshape(2, 3)\n",
    "data1_array.shape # (2, 3)\n",
    "\n",
    "# special functions to create ndarray\n",
    "np.zeros(10)\n",
    "np.ones((2, 3))\n",
    "np.empty((2, 3, 4)) # filling with random tiny numbers\n",
    "np.arange(8)"
   ]
  },
  {
   "cell_type": "code",
   "execution_count": null,
   "id": "a5b2668f",
   "metadata": {},
   "outputs": [
    {
     "data": {
      "text/plain": [
       "array([6, 7, 8, 1, 2, 4])"
      ]
     },
     "execution_count": 27,
     "metadata": {},
     "output_type": "execute_result"
    }
   ],
   "source": [
    "data1 = [6, 7, 8, 1, 2, 4]\n",
    "data1_array = np.array(data1)\n",
    "data1_asarray = np.asanyarray(data1)"
   ]
  },
  {
   "cell_type": "code",
   "execution_count": 34,
   "id": "bc8f276a",
   "metadata": {},
   "outputs": [
    {
     "data": {
      "text/plain": [
       "array([[3, 3, 3],\n",
       "       [3, 3, 3]], dtype=int16)"
      ]
     },
     "execution_count": 34,
     "metadata": {},
     "output_type": "execute_result"
    }
   ],
   "source": [
    "import math\n",
    "np.full((2,3), math.pi, dtype=np.int16)"
   ]
  },
  {
   "cell_type": "markdown",
   "id": "18444e6b",
   "metadata": {},
   "source": [
    "### NumPy Array Creation Functions\n",
    "\n",
    "| Function | Description |\n",
    "|----------|-------------|\n",
    "| `array` | Convert input (list, tuple, array, or other sequence type) to an ndarray; copies the input data by default |\n",
    "| `asarray` | Similar to `array` but do not copy if the input is already an ndarray |\n",
    "| `arange` | Similar to `range` but returns an ndarray instead of a list |\n",
    "| `ones`, `ones_like` | Produce an array of 1's |\n",
    "| `zeros`, `zeros_like` | Produce an array of 0's |\n",
    "| `empty`, `empty_list` | Produce an array of random tiny numbers |\n",
    "| `full`, `full_like` | Produce an array of one specified number |\n",
    "| `eye`, `identify` | Produce an $N \\times N$ identify matrix |\n",
    "\n",
    "### NumPy Data Types (`dtype`)\n",
    "\n",
    "The most common `dtypes` include:\n",
    "\n",
    "| Type | Type Code | Description |\n",
    "|------|-----------|-------------|\n",
    "| `int32`, `uint32` | `i4`,`u4` | Signed and unsigned 32-bit integer types |\n",
    "| `float64` | `f8` or `d` | Standard double-precision floating point; compatible with C double and Python `float` object |\n",
    "| `bool` | `?` | Boolean type: `True` or `False` |\n",
    "| `object` | `O` | Python object |\n",
    "| `str_` | `S` | Fixed-length ASCII string type |\n",
    "| `bytes` | `U` | Fixed-length Unicode type |\n",
    "\n",
    "*Type casting*: You can convert or *cast* an array from one data type to another with `astype` method."
   ]
  },
  {
   "cell_type": "code",
   "execution_count": null,
   "id": "5daec379",
   "metadata": {},
   "outputs": [
    {
     "data": {
      "text/plain": [
       "array([1.2, 3.5, 5. ])"
      ]
     },
     "execution_count": 56,
     "metadata": {},
     "output_type": "execute_result"
    }
   ],
   "source": [
    "arr = np.array([1, 2, 3, 4, 5])\n",
    "arr.dtype # dtype('int64')\n",
    "\n",
    "arr_float = arr.astype(np.float64)\n",
    "arr_float.dtype # dtype('float64')\n",
    "\n",
    "import math\n",
    "arr2 = np.full((2, 3), math.pi)\n",
    "arr2_int = arr2.astype(np.int32)\n",
    "\n",
    "arr3 = np.array([\"1.2\", \"3.5\", \"5\"], dtype=np.str_)\n",
    "arr3_float = arr3.astype(np.float64)\n",
    "arr3_float # array([1.2, 3.5, 5. ])"
   ]
  },
  {
   "cell_type": "markdown",
   "id": "96d6ca55",
   "metadata": {},
   "source": [
    "### Arithmetic with NumPy Arrays\n",
    "\n",
    "Arithmetic operations are vectorized in NumPy, so they are fast and efficient. All arithmetic operations are done element-wise, with broadcasting rules."
   ]
  },
  {
   "cell_type": "code",
   "execution_count": 62,
   "id": "3d176542",
   "metadata": {},
   "outputs": [
    {
     "data": {
      "text/plain": [
       "array([[ True, False,  True],\n",
       "       [False,  True, False]])"
      ]
     },
     "execution_count": 62,
     "metadata": {},
     "output_type": "execute_result"
    }
   ],
   "source": [
    "arr1 = np.arange(1, 7).reshape(2, 3)\n",
    "arr2 = np.array([[0, 4., 1.], [7, 2, 12]])\n",
    "arr1 > arr2"
   ]
  },
  {
   "cell_type": "code",
   "execution_count": 72,
   "id": "1dfb73cb",
   "metadata": {},
   "outputs": [],
   "source": [
    "# Review: list slicing & assignment\n",
    "my_list = [1, 2, 3, 4, 5, 6]\n",
    "my_list[2:4] = [100, 100]\n",
    "\n",
    "# Array slicing and assignment\n",
    "arr1 = np.arange(1, 7)\n",
    "arr1[2:4] = 100 # array([  1,   2, 100, 100,   5,   6])\n"
   ]
  },
  {
   "cell_type": "markdown",
   "id": "9403ec0b",
   "metadata": {},
   "source": [
    "> One key difference between np.array and Python (or R) is that array slicing are views on the original array. Therefore, even if you re-assign the array to another name, changes the new array are still reflected in the original array. If you want to keep the original array intact, you need to use `new_array = original_array.copy()`."
   ]
  },
  {
   "cell_type": "code",
   "execution_count": null,
   "id": "a6209053",
   "metadata": {},
   "outputs": [
    {
     "name": "stdout",
     "output_type": "stream",
     "text": [
      "[  1   2 100 100   5   6]\n",
      "[  1   2 100 100   5   6]\n"
     ]
    }
   ],
   "source": [
    "arr1 = np.arange(1, 7)\n",
    "new_arr = arr1\n",
    "new_arr[2:4] = 100\n",
    "print(arr1) # [  1   2 100 100   5   6]\n",
    "\n",
    "# To add your original array intact\n",
    "new_arr2 = arr2.copy()\n",
    "new_arr2[0] = 99\n",
    "print(arr1) # [  1   2 100 100   5   6]"
   ]
  },
  {
   "cell_type": "code",
   "execution_count": null,
   "id": "a7e01d70",
   "metadata": {},
   "outputs": [
    {
     "data": {
      "text/plain": [
       "np.int64(2)"
      ]
     },
     "execution_count": 82,
     "metadata": {},
     "output_type": "execute_result"
    }
   ],
   "source": [
    "# Indexing/slicing higher dimensional arrays\n",
    "arr2d = np.array([[1, 2, 3], [4, 5, 6], [7, 8, 9]])\n",
    "arr2d[0] # row selection\n",
    "arr2d[:,1] # col selection\n",
    "arr2d[0][1] # element selection\n",
    "arr2d[0, 1] # same as above"
   ]
  },
  {
   "cell_type": "code",
   "execution_count": 96,
   "id": "e34a733b",
   "metadata": {},
   "outputs": [
    {
     "data": {
      "text/plain": [
       "1"
      ]
     },
     "execution_count": 96,
     "metadata": {},
     "output_type": "execute_result"
    }
   ],
   "source": [
    "# Multi-dimensional array slicing\n",
    "arr3d = np.arange(1, 13).reshape(2, 2, 3)\n",
    "original = arr3d[0][1].copy()\n",
    "arr3d[0][1] = 100\n",
    "arr3d[0][1] = original\n",
    "original.ndim\n"
   ]
  },
  {
   "cell_type": "markdown",
   "id": "112f7746",
   "metadata": {},
   "source": [
    "> Note: With slicing, if you use a single integer, it drops that dimension; while if you use slicing (e.g., `1:2`), that dimension is preserved (although it can be $1$)."
   ]
  },
  {
   "cell_type": "code",
   "execution_count": null,
   "id": "639c18c0",
   "metadata": {},
   "outputs": [
    {
     "data": {
      "text/plain": [
       "2"
      ]
     },
     "execution_count": 110,
     "metadata": {},
     "output_type": "execute_result"
    }
   ],
   "source": [
    "# The difference between indexing and slicing \n",
    "arr2d = np.arange(1, 13).reshape(3, 4)\n",
    "arr2d_dropdim = arr2d[0, 1:3] # array([2, 3])\n",
    "arr2d_dropdim.shape # (2,) \n",
    "arr2d_dropdim.ndim # 1\n",
    "\n",
    "arr2d_presdim = arr2d[0:1, 1:3] # array([[2, 3]])\n",
    "arr2d_presdim.shape # (1, 2)\n",
    "arr2d_presdim.ndim # 2"
   ]
  },
  {
   "cell_type": "markdown",
   "id": "f2ec0921",
   "metadata": {},
   "source": [
    "### Boolean Indexing"
   ]
  },
  {
   "cell_type": "code",
   "execution_count": 122,
   "id": "f19743c4",
   "metadata": {},
   "outputs": [
    {
     "data": {
      "text/plain": [
       "array([[ 2,  3],\n",
       "       [ 5,  6],\n",
       "       [11, 12]])"
      ]
     },
     "execution_count": 122,
     "metadata": {},
     "output_type": "execute_result"
    }
   ],
   "source": [
    "names = np.array(['Bob', 'Joe', 'Adam', 'Bob', 'Chris'])\n",
    "data = np.arange(1, 16).reshape(5, 3)\n",
    "\n",
    "# select when name is Bob\n",
    "data[names == 'Bob']\n",
    "\n",
    "# select name is not Bob—equivalent approaches\n",
    "data[names == 'Bob']\n",
    "data[~(names == 'Bob')]\n",
    "\n",
    "condition = names == \"Bob\"\n",
    "data[~condition]\n",
    "\n",
    "# If you need and (&), or (|)\n",
    "data[(names == \"Bob\") | (names == \"Joe\"), 1:3]"
   ]
  },
  {
   "cell_type": "code",
   "execution_count": null,
   "id": "075c1ead",
   "metadata": {},
   "outputs": [
    {
     "data": {
      "text/plain": [
       "array([ 2, 12])"
      ]
     },
     "execution_count": 132,
     "metadata": {},
     "output_type": "execute_result"
    }
   ],
   "source": [
    "arr2d = np.arange(1, 13).reshape(3, 4)\n",
    "\n",
    "# negative indexing\n",
    "arr2d[:, -1] # array([ 4,  8, 12])\n",
    "\n",
    "# note the difference of single vs double square brackets\n",
    "arr2d[1, 2] # one element, 7\n",
    "arr2d[[1, 2]] # rows 1 & 2: shape (2,4)\n",
    "\n",
    "# fancy indexing\n",
    "arr2d[:, [3, 1]] # shape (3,2)\n",
    "arr2d[[0, 2], [1, 3]] # two elements (0,1) and (2,3) -> array([ 2, 12])"
   ]
  },
  {
   "cell_type": "code",
   "execution_count": 139,
   "id": "aaea77e5",
   "metadata": {},
   "outputs": [
    {
     "data": {
      "text/plain": [
       "array([[ 1,  5,  9],\n",
       "       [ 2,  6, 10],\n",
       "       [ 3,  7, 11],\n",
       "       [ 4,  8, 12]])"
      ]
     },
     "execution_count": 139,
     "metadata": {},
     "output_type": "execute_result"
    }
   ],
   "source": [
    "# To transpose, you can use either .T or .transpose()\n",
    "arr2d.T\n",
    "arr2d.transpose()"
   ]
  },
  {
   "cell_type": "code",
   "execution_count": null,
   "id": "6eca6ca0",
   "metadata": {},
   "outputs": [
    {
     "data": {
      "text/plain": [
       "array([[ 30,  70, 110],\n",
       "       [ 70, 174, 278],\n",
       "       [110, 278, 446]])"
      ]
     },
     "execution_count": 141,
     "metadata": {},
     "output_type": "execute_result"
    }
   ],
   "source": [
    "# Matrix dot product—equivalent approaches\n",
    "arr2d @ arr2d.T\n",
    "np.dot(arr2d, arr2d.T)"
   ]
  },
  {
   "cell_type": "code",
   "execution_count": 142,
   "id": "928ffaa5",
   "metadata": {},
   "outputs": [
    {
     "data": {
      "text/plain": [
       "array([[ 1,  5,  9],\n",
       "       [ 2,  6, 10],\n",
       "       [ 3,  7, 11],\n",
       "       [ 4,  8, 12]])"
      ]
     },
     "execution_count": 142,
     "metadata": {},
     "output_type": "execute_result"
    }
   ],
   "source": [
    "# Transpose is a special case of swapaxes\n",
    "arr2d.swapaxes(0, 1)"
   ]
  },
  {
   "cell_type": "markdown",
   "id": "963d7158",
   "metadata": {},
   "source": [
    "## Pseudorandom Number Generation\n",
    "\n",
    "The `numpy.random` module supplements the built-in Python `random` module with fast array random number generation.\n",
    "\n",
    "Although you could use functions such as `np.random.standard_normal(size=(n,m))`, it's considered best practice to create a generator first with `rng = np.random.default_rng(seed=42)`. The generator object `rng` is also isolated from other code which might use the `nuumpy.random` module.\n",
    "\n",
    "Some common random number generator methods:\n",
    "- `permutation` returns a random permutation of a sequence\n",
    "- `shuffle` randomly permutes a sequence in place\n",
    "- `uniform` draws sample from a uniform distribution\n",
    "- `integers` draws random integers from a given low-to-high range\n",
    "- `standard_normal` draws from a standard normal distribution\n",
    "- `normal` draws from a normal distribution\n",
    "- `uniform` draws samples from a uniform (0,1) distribution"
   ]
  },
  {
   "cell_type": "code",
   "execution_count": 143,
   "id": "a64b0dc5",
   "metadata": {},
   "outputs": [
    {
     "name": "stdout",
     "output_type": "stream",
     "text": [
      "346 ms ± 2.03 ms per loop (mean ± std. dev. of 7 runs, 1 loop each)\n"
     ]
    }
   ],
   "source": [
    "from random import normalvariate\n",
    "N = 1_000_000\n",
    "%timeit sample = [normalvariate(0, 1) for _ in range(N)]"
   ]
  },
  {
   "cell_type": "code",
   "execution_count": 144,
   "id": "174d12a8",
   "metadata": {},
   "outputs": [
    {
     "name": "stdout",
     "output_type": "stream",
     "text": [
      "15.1 ms ± 54.8 μs per loop (mean ± std. dev. of 7 runs, 100 loops each)\n"
     ]
    }
   ],
   "source": [
    "%timeit np.random.standard_normal(N)"
   ]
  },
  {
   "cell_type": "code",
   "execution_count": null,
   "id": "cf3842e5",
   "metadata": {},
   "outputs": [
    {
     "data": {
      "text/plain": [
       "numpy.random._generator.Generator"
      ]
     },
     "execution_count": 150,
     "metadata": {},
     "output_type": "execute_result"
    }
   ],
   "source": [
    "# Create a generator\n",
    "rng = np.random.default_rng(seed=42)\n",
    "type(rng) # numpy.random._generator.Generator"
   ]
  },
  {
   "cell_type": "code",
   "execution_count": null,
   "id": "1d0e5de2",
   "metadata": {},
   "outputs": [
    {
     "data": {
      "text/plain": [
       "array([[ 0.1278404 , -0.31624259, -0.01680116],\n",
       "       [-0.85304393,  0.87939797,  0.77779194]])"
      ]
     },
     "execution_count": 149,
     "metadata": {},
     "output_type": "execute_result"
    }
   ],
   "source": [
    "# Let's give it a try\n",
    "random_data = rng.standard_normal((2, 3)) # note the double parenthesis"
   ]
  },
  {
   "cell_type": "code",
   "execution_count": 152,
   "id": "e7ac1e20",
   "metadata": {},
   "outputs": [
    {
     "data": {
      "text/plain": [
       "array([[0, 0, 0, 0],\n",
       "       [0, 0, 0, 0],\n",
       "       [0, 0, 0, 0]])"
      ]
     },
     "execution_count": 152,
     "metadata": {},
     "output_type": "execute_result"
    }
   ],
   "source": [
    "out = np.zeros_like(arr2d)\n",
    "out"
   ]
  },
  {
   "cell_type": "markdown",
   "id": "b743d2bf",
   "metadata": {},
   "source": [
    "## Universal Functions: Fast Element-Wise Array Functions\n",
    "\n",
    "A *universal* function or *ufunc* is a function that performs element-wise array operations on ndarrys.\n",
    "\n",
    "Common *unary* ufuncs:\n",
    "- `abs` and `fabs` compute absolute values\n",
    "- `sqrt` and `square` compute square root and square\n",
    "- `exp` computes exponential $e^{x}$\n",
    "- `log`, `log10`, `log2`, and `log1p` represent natural log ($e$), $log_{10}$, $log_{2}$ and $log(1+x)$\n",
    "- `sign` compute the sign of each element: `1` (pos), `0`, and `-1` (neg)\n",
    "- `ceil` and `floor`\n",
    "- `rint` rounds to the nearest integer\n",
    "- `modf` returns fractional and integer parts of array\n",
    "- `isnan` returns Boolean array indicating whether each element is `NaN`\n",
    "- `isfinite`, `isinf` returns whether each element is finite or infinite, respectively\n",
    "- `logical_not` is equivalent to `~arr`\n",
    "\n",
    "Common binary ufuncs:\n",
    "- `add`, `subtract`, `multiply`, `divide`, `floor_divide`, `power`\n",
    "- `maximum`, `fmax`, `minimum`, `fmin`, `mod`\n",
    "- `copysign`\n",
    "- `greater`, `greater_equal`, `less`, `less_equal`, `equal`, `not_equal`\n",
    "- `logical_and` (&), `logical_or` (|), `logical_xor` (^)\n"
   ]
  },
  {
   "cell_type": "code",
   "execution_count": 158,
   "id": "c61b3a2f",
   "metadata": {},
   "outputs": [
    {
     "name": "stdout",
     "output_type": "stream",
     "text": [
      "X = [[1 2 3]\n",
      " [1 2 3]]\n",
      "Y = [[4 4 4]\n",
      " [5 5 5]]\n"
     ]
    }
   ],
   "source": [
    "x = np.array([1, 2, 3])\n",
    "y = np.array([4, 5])\n",
    "X, Y = np.meshgrid(x, y)\n",
    "print(f\"X = {X}\")\n",
    "print(f\"Y = {Y}\")"
   ]
  },
  {
   "cell_type": "code",
   "execution_count": null,
   "id": "57296520",
   "metadata": {},
   "outputs": [],
   "source": []
  }
 ],
 "metadata": {
  "kernelspec": {
   "display_name": "Python 3.12 (l5)",
   "language": "python",
   "name": "l5-312"
  },
  "language_info": {
   "codemirror_mode": {
    "name": "ipython",
    "version": 3
   },
   "file_extension": ".py",
   "mimetype": "text/x-python",
   "name": "python",
   "nbconvert_exporter": "python",
   "pygments_lexer": "ipython3",
   "version": "3.13.7"
  }
 },
 "nbformat": 4,
 "nbformat_minor": 5
}
