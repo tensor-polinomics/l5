{
 "cells": [
  {
   "cell_type": "markdown",
   "id": "0b969934",
   "metadata": {},
   "source": [
    "# Chapter 3. Built-in Data Structures, Functions, and Files\n",
    "\n",
    "We will cover Python's built-in data structure, functions, and files in this chapter:\n",
    "- *tuple* with `()`\n",
    "- *list* with `[]`\n",
    "- *dict* with `{'key': value}`\n",
    "- *set* with `{}`\n",
    "\n",
    "## Data Structures and Sequences\n",
    "\n",
    "### Tuple\n",
    "\n",
    "A tuple is a fixed-length, immutable se4quence of objects, often created with a common-separated sequence of values wrapped in parentheses. In many contexts, the parentheses can be omitted. You can convert other iterables such as lists to tuples with `tuple()`. Indexing and slicing are done with square brackets `[]`, same as other iterables.\n",
    "\n",
    "Although tuples are immutable, if an element in a tuple is mutable (such as a list), you can modify it in place!"
   ]
  },
  {
   "cell_type": "code",
   "execution_count": 139,
   "id": "a1ee8206",
   "metadata": {},
   "outputs": [
    {
     "data": {
      "text/plain": [
       "(1, 2, 3, 1, 2, 3, 1, 2, 3)"
      ]
     },
     "execution_count": 139,
     "metadata": {},
     "output_type": "execute_result"
    }
   ],
   "source": [
    "my_tuple = (1, [2, 3], \"string\")\n",
    "my_tuple # (1, [2, 3], 'string')\n",
    "my_tuple[1].append(4)\n",
    "my_tuple # (1, [2, 3, 4], 'string')\n",
    "\n",
    "# You can concatenate tuples with + operator or duplicating with *\n",
    "my_tuple = my_tuple + (6, 7, 8) # (1, [2, 3, 4], 'string', 6, 7, 8)\n",
    "my_tuple\n",
    "\n",
    "my_tuple2 = (1, 2, 3)\n",
    "my_tuple2 * 3 # (1, 2, 3, 1, 2, 3, 1, 2, 3)\n"
   ]
  },
  {
   "cell_type": "code",
   "execution_count": 140,
   "id": "675edf18",
   "metadata": {},
   "outputs": [
    {
     "name": "stdout",
     "output_type": "stream",
     "text": [
      "x = 1, y = 2, z = 3\n",
      "x = a, y = b, z = c\n",
      "x = True, y = False, z = False\n",
      "x = 7, y = 8, z = 9\n"
     ]
    }
   ],
   "source": [
    "# Unpacking tuples\n",
    "a, b, c = my_tuple2\n",
    "a # 1\n",
    "\n",
    "a, b, c = (1, 2, (3, 4))\n",
    "c # (3, 4)\n",
    "a, b, (c, d) = (1, 2, (3, 4))\n",
    "c # 3\n",
    "\n",
    "# Unpacking over sequences of tuples/lists\n",
    "seq = [(1, 2, 3), (\"a\", \"b\", \"c\"), (True, False, False), (7, 8, 9)]\n",
    "for x, y, z in seq:\n",
    "    print(f\"x = {x}, y = {y}, z = {z}\")"
   ]
  },
  {
   "cell_type": "code",
   "execution_count": 141,
   "id": "59955644",
   "metadata": {},
   "outputs": [],
   "source": [
    "# If you only need some values from a tuple\n",
    "values = 1, 2, 3, 4, 5\n",
    "a, b, *rest = values # method 1\n",
    "a, b, *_ = values # method 2"
   ]
  },
  {
   "cell_type": "code",
   "execution_count": 142,
   "id": "32eb9723",
   "metadata": {},
   "outputs": [
    {
     "data": {
      "text/plain": [
       "2"
      ]
     },
     "execution_count": 142,
     "metadata": {},
     "output_type": "execute_result"
    }
   ],
   "source": [
    "# Tuple method—there are only a few, such as .count()\n",
    "a = (1, 5, 2, 5, 3)\n",
    "a.count(5) # count the number of occurances, 2"
   ]
  },
  {
   "cell_type": "markdown",
   "id": "f670d5d4",
   "metadata": {},
   "source": [
    "### List\n",
    "\n",
    "There are more methods available for lists:\n",
    "- `append()` adds one element at the end of the list\n",
    "- `extend()` adds multiple elements at the end\n",
    "- You can also concatenate multiple lists with `+`, but `extend()` is preferred\n",
    "- `insert(pos, element)` inserts at position `pos`\n",
    "- `pop`(pos)` removes the element at `pos`\n",
    "- `remove(element)` removes the first occurance of `element`\n",
    "- `\"element\" in my_list` tests whether `element` is in `my_list`\n",
    "- `\"element\" not in my_list`\n",
    "- `my_list.sort()` will sort `my_list` in place. You can also provide an optional `key`, which is a function that produces a value to sort the objects.\n",
    "- Slicing is done with square brackets `[]`. **Note that negative values slice from the end of the sequence**, which is different from R. A clever way to reverse the order of a list is to use `my_list[::-1]`."
   ]
  },
  {
   "cell_type": "code",
   "execution_count": 143,
   "id": "9555aa40",
   "metadata": {},
   "outputs": [
    {
     "data": {
      "text/plain": [
       "[9, 8, 7, 6, 5, 4, 3, 2, 1, 0]"
      ]
     },
     "execution_count": 143,
     "metadata": {},
     "output_type": "execute_result"
    }
   ],
   "source": [
    "# Slicing examples\n",
    "my_list = list(range(10))\n",
    "my_list # [0, 1, 2, 3, 4, 5, 6, 7, 8, 9]\n",
    "my_list[-3:] # [7, 8, 9]\n",
    "my_list[::2] # [0, 2, 4, 6, 8]\n",
    "my_list[::-1] # [9, 8, 7, 6, 5, 4, 3, 2, 1, 0]"
   ]
  },
  {
   "cell_type": "markdown",
   "id": "923405f6",
   "metadata": {},
   "source": [
    "### Dictionary\n",
    "\n",
    "The most important data type in Python is arguable the `dict`. In other languages, it's often called *hash maps* or *associative arrays*. Dictionary is often created with curly braces `{}`, with key-value pairs separated by colons `:`."
   ]
  },
  {
   "cell_type": "code",
   "execution_count": 144,
   "id": "ab25cd92",
   "metadata": {},
   "outputs": [
    {
     "data": {
      "text/plain": [
       "{'Name': 'John', 'Age': 30, 'City': 'Toronto'}"
      ]
     },
     "execution_count": 144,
     "metadata": {},
     "output_type": "execute_result"
    }
   ],
   "source": [
    "my_dict = {\"name\": \"John\", \"age\": 30, \"3\": \"a strange one\"}\n",
    "my_dict[2] = \"insert\" # {'name': 'John', 'age': 30, '3': 'a strange one', 2: 'insert'}\n",
    "my_dict[\"3\"] = \"a better one\" # {'name': 'John', 'age': 30, '3': 'a better one', 2: 'insert'}\n",
    "\n",
    "# Check whether a key exists\n",
    "2 in my_dict # True\n",
    "\n",
    "# Delete an element\n",
    "del my_dict[2]\n",
    "my_dict # {'name': 'John', 'age': 30, '3': 'a better one'}\n",
    "\n",
    "# Delete and return the value\n",
    "age = my_dict.pop(\"age\")\n",
    "age # 30\n",
    "my_dict # {'name': 'John', '3': 'a better one'}\n",
    "\n",
    "my_dict[\"Occupation\"] = \"AI Engineer\"\n",
    "\n",
    "# Convert keys, values, or both to a list\n",
    "list(my_dict.keys()) # ['name', '3', 'Occupation']\n",
    "list(my_dict.values()) # ['John', 'a better one', 'AI Engineer']\n",
    "list(my_dict.items()) # [('name', 'John'), ('3', 'a better one'), ('Occupation', 'AI Engineer')]\n",
    "\n",
    "# Merge two dictionaries—it changes the first dict in place\n",
    "my_dict2 = {\"Location\": \"Toronto\", \"Salary\": 550_000}\n",
    "my_dict.update(my_dict2)\n",
    "my_dict\n",
    "\n",
    "# Zip a dict from two lists\n",
    "key_list = [\"Name\", \"Age\", \"City\"]\n",
    "value_list = [\"John\", 30, \"Toronto\"]\n",
    "dict(zip(key_list, value_list)) # {'Name': 'John', 'Age': 30, 'City': 'Toronto'}"
   ]
  },
  {
   "cell_type": "markdown",
   "id": "c7fdba72",
   "metadata": {},
   "source": [
    "**Default values**\n",
    "\n",
    "Suppose that you want something like:\n",
    "```\n",
    "if key in my_dict:\n",
    "    value = my_dict[key]\n",
    "else:\n",
    "    value = default_value\n",
    "```\n",
    "You have a few alternatives:"
   ]
  },
  {
   "cell_type": "code",
   "execution_count": 145,
   "id": "db05f0de",
   "metadata": {},
   "outputs": [
    {
     "data": {
      "text/plain": [
       "'Unknown'"
      ]
     },
     "execution_count": 145,
     "metadata": {},
     "output_type": "execute_result"
    }
   ],
   "source": [
    "# get.(key, default_value) method\n",
    "my_dict = {\"name\": \"Alice\", \"age\": 30}\n",
    "my_dict.get(\"name\", \"Unknown\") # 'Alice'\n",
    "my_dict.get(\"location\", \"Unknown\") # 'Unknown'"
   ]
  },
  {
   "cell_type": "code",
   "execution_count": 146,
   "id": "c1e5177d",
   "metadata": {},
   "outputs": [],
   "source": [
    "words = [\"apple\", \"bat\", \"bar\", \"atom\", \"book\"]\n",
    "by_letter = {}\n",
    "\n",
    "# 1. explicit search\n",
    "for word in words:\n",
    "    letter = word[0]\n",
    "    if letter not in by_letter:\n",
    "        by_letter[letter] = [word]\n",
    "    else:\n",
    "        by_letter[letter].append(word)\n",
    "\n",
    "by_letter # {'a': ['apple', 'atom'], 'b': ['bat', 'bar', 'book']}\n",
    "\n",
    "# 2. use setdefault method\n",
    "for word in words:\n",
    "    by_letter.setdefault(word[0],[]).append(word)\n",
    "    \n",
    "# 3. use defaultdict from collections module\n",
    "from collections import defaultdict\n",
    "by_letter = defaultdict(list)\n",
    "\n",
    "for word in words:\n",
    "    by_letter[word[0], word]\n"
   ]
  },
  {
   "cell_type": "markdown",
   "id": "11890db0",
   "metadata": {},
   "source": [
    "The keys in a dictionary have to be immutable objects such as `int`, `float`, or `str` or tuples (all the objects in the tuple have to be immutable as well). In other words, the key has to be *hashable*, which can be tested using `hash()` function.\n",
    "\n",
    "### Set\n",
    "\n",
    "A set is an *unordered* collection of *unique* elements. It can be created either with `set()` or a pair of curly braces `{}`."
   ]
  },
  {
   "cell_type": "code",
   "execution_count": 147,
   "id": "b0ac91a0",
   "metadata": {},
   "outputs": [
    {
     "data": {
      "text/plain": [
       "{1, 2, 3}"
      ]
     },
     "execution_count": 147,
     "metadata": {},
     "output_type": "execute_result"
    }
   ],
   "source": [
    "set([1, 2, 2, 3]) # {1, 2, 3}\n",
    "{1, 2, 2, 3} # {1, 2, 3}"
   ]
  },
  {
   "cell_type": "code",
   "execution_count": 148,
   "id": "32eaabfd",
   "metadata": {},
   "outputs": [
    {
     "data": {
      "text/plain": [
       "{1, 2, 3, 4, 5, 6}"
      ]
     },
     "execution_count": 148,
     "metadata": {},
     "output_type": "execute_result"
    }
   ],
   "source": [
    "a = {1, 2, 3}\n",
    "b = {3, 4, 5, 6}\n",
    "c = a.union(b)\n",
    "c # {1, 2, 3, 4, 5, 6}\n",
    "c = a | b # same as before\n",
    "c = a.intersection(b) # {3}\n",
    "c = a & b # same as before\n",
    "a |= b # modify a in place\n",
    "a # {1, 2, 3, 4, 5, 6}"
   ]
  },
  {
   "cell_type": "markdown",
   "id": "6ba77bce",
   "metadata": {},
   "source": [
    "### Set operators\n",
    "\n",
    "There are many other set operators:\n",
    "\n",
    "| Function | Operator | Description |\n",
    "|----------|----------|-------------|\n",
    "| `a.add(x)` | N/A | Add `x` to `a` |\n",
    "| `a.clear()` | N/A | Reset `a` to empty |\n",
    "| `remove(x)` | N/A | Remove `x` from `a` |\n",
    "| `a.pop()` | N/A | Remove an arbitrary element from `a`; raising `KeyError` is `a` is empty |\n",
    "| `a.union(b)` | `a \\| b` | Union of `a` and `b` |\n",
    "| `a.update(b)` | `a \\|= b` | Union of `a` and `b` in place |\n",
    "| `a.intersection(b)` | `a \\& b` | Intersection of `a` and `b` |\n",
    "| `a.intersection_update(b)` | `a \\&= b` | Intersection of `a` and `b` in place |\n",
    "| `a.difference(b)` | `a - b` | Elements in `a` but not `b` |\n",
    "| `a.difference_update(b)` | `a -= b` | Elements in `a` but not `b` in place|\n",
    "| `a.symmtric_difference(b)` | `a ^ b` | Elements in either `a` or `b` but not both |\n",
    "| `a.symmtric_difference_update(b)` | `a ^= b` | Elements in either `a` or `b` but not both, in place |\n",
    "| `a.issubset(b)` | `<=` | `True` if `a` is a subset of `b` |\n",
    "| `a.issuperset(b)` | `>=` | `True` if `a` is a superset of `b` |\n",
    "| `a.isdisjoint(b)` | N/A | `True` if `a` and `b` have nothing in common |\n",
    "\n",
    "Like dictionary keys, set elements generally must be immutable and *hashable*. If you want to include a sequence in a set, the sequence has to be converted to tuples first.\n",
    "\n",
    "### Built-in Sequence Functions\n",
    "\n",
    "There are four useful built-in sequence functions:\n",
    "- `enumerate()` produces the index and content at the same time\n",
    "- `sorte()` returns a new sorted list from the elements of any sequence\n",
    "- `zip()` pairs up the elements from any number of sequences to create a *list of tuples*. The length is determined by the *shortest* sequence.\n",
    "- `reversed()` sorts the elements of a sequence in reverse order"
   ]
  },
  {
   "cell_type": "code",
   "execution_count": 149,
   "id": "a5d95482",
   "metadata": {},
   "outputs": [
    {
     "name": "stdout",
     "output_type": "stream",
     "text": [
      "1: apple\n",
      "2: orange\n",
      "3: banana\n"
     ]
    }
   ],
   "source": [
    "fruits = ['apple', 'orange', 'banana']\n",
    "\n",
    "for i, fruit in enumerate(fruits, 1):\n",
    "    print(f\"{i}: {fruit}\")"
   ]
  },
  {
   "cell_type": "code",
   "execution_count": 150,
   "id": "d44cf882",
   "metadata": {},
   "outputs": [
    {
     "data": {
      "text/plain": [
       "[' ', '!', 'H', 'W', 'd', 'e', 'l', 'l', 'l', 'o', 'o', 'r']"
      ]
     },
     "execution_count": 150,
     "metadata": {},
     "output_type": "execute_result"
    }
   ],
   "source": [
    "# sorted()\n",
    "sorted(\"Hello World!\")"
   ]
  },
  {
   "cell_type": "code",
   "execution_count": 151,
   "id": "da5d953d",
   "metadata": {},
   "outputs": [
    {
     "name": "stdout",
     "output_type": "stream",
     "text": [
      "1: fruit apple with quantity 1\n",
      "2: fruit orange with quantity 2\n",
      "3: fruit banana with quantity 3\n"
     ]
    }
   ],
   "source": [
    "# zip\n",
    "seq1 = ['apple', 'orange', 'banana']\n",
    "seq2 = (1, 2, 3, 4)\n",
    "seq3 = [\"Toronto\", \"New York\", \"Sydney\"]\n",
    "\n",
    "list(zip(seq1, seq2, seq3))\n",
    "# [('apple', 1, 'Toronto'), ('orange', 2, 'New York'), ('banana', 3, 'Sydney')]\n",
    "\n",
    "for i, (a, b) in enumerate(zip(seq1, seq2)):\n",
    "    print(f\"{i+1}: fruit {a} with quantity {b}\")"
   ]
  },
  {
   "cell_type": "code",
   "execution_count": 152,
   "id": "a2ad7064",
   "metadata": {},
   "outputs": [
    {
     "data": {
      "text/plain": [
       "[9, 8, 7, 6, 5, 4, 3, 2, 1, 0]"
      ]
     },
     "execution_count": 152,
     "metadata": {},
     "output_type": "execute_result"
    }
   ],
   "source": [
    "# reversed() is a generator\n",
    "list(reversed(range(10)))"
   ]
  },
  {
   "cell_type": "markdown",
   "id": "1edd9695",
   "metadata": {},
   "source": [
    "### List, Set, and Dictonary Comprehension\n",
    "\n",
    "One of the most powerful features in Python is *list comprehension*—it allows you to concisely form a new list by filtering the elements of a collection, transforming the elements passive the filter into one concise expression. It's faster and easier to read/write than the equivalent `for` loop.\n",
    "\n",
    "```python\n",
    "# Basic syntax:\n",
    "[expr for value in collection if condition]\n",
    "\n",
    "# Equivalent for loop:\n",
    "result = []\n",
    "for value in collection:\n",
    "    if condition:\n",
    "        result.append(expr)\n",
    "```\n",
    "A closely related idea is *generator expression*, which looks very similar—instead of `[]`, we use `()`. Unlike list comprehension, generator expression returns a *lazy iterator* that yields values one by one.\n",
    "\n",
    "A set comprehension is similar: `set_comp = {expr for value in collection if condition}`. Here is the syntax for dict comprehension: `dict_comp = {key-expr: value-expr for value in collection if condition}`."
   ]
  },
  {
   "cell_type": "code",
   "execution_count": 153,
   "id": "2f3aabaa",
   "metadata": {},
   "outputs": [
    {
     "data": {
      "text/plain": [
       "('Python', 'Language')"
      ]
     },
     "execution_count": 153,
     "metadata": {},
     "output_type": "execute_result"
    }
   ],
   "source": [
    "# Example1: list comprehension\n",
    "my_strings = ['a', 'NY', 'cat', 'Python', 'language']\n",
    "new_list = [x.title() for x in my_strings if len(x) > 2]\n",
    "# ['Cat', 'Python', 'Language']\n",
    "\n",
    "# Example2: set comprehension\n",
    "new_set = {len(x) for x in my_strings}\n",
    "# {1, 2, 3, 6, 8}\n",
    "\n",
    "# Example 2 with map() function\n",
    "set(map(len, my_strings))\n",
    "\n",
    "# Example 3: dict comprehension\n",
    "my_dict_mapping = {key: index for index, key in enumerate(my_strings)}\n",
    "# {'a': 0, 'NY': 1, 'cat': 2, 'Python': 3, 'language': 4}\n",
    "\n",
    "# Example 4: generator expression\n",
    "my_generator = (x.title() for x in my_strings if len(x) > 2)\n",
    "next(my_generator) # 'Cat'\n",
    "tuple(my_generator) # remaining items in a tuple: ('Python', 'Language')"
   ]
  },
  {
   "cell_type": "code",
   "execution_count": 154,
   "id": "2d3b3ee9",
   "metadata": {},
   "outputs": [
    {
     "data": {
      "text/plain": [
       "['Amanda', 'Maria', 'Natalia']"
      ]
     },
     "execution_count": 154,
     "metadata": {},
     "output_type": "execute_result"
    }
   ],
   "source": [
    "# Nested list comprehensions\n",
    "all_names = [[\"John\", \"Amanda\", \"Jane\"],\n",
    "             [\"Maria\", \"Natalia\", \"Juan\"]]\n",
    "\n",
    "# We want to find all names with at least two a's\n",
    "# Method 1. Using double for loops\n",
    "name_of_interest1 = []\n",
    "for lst in all_names:\n",
    "    for name in lst:\n",
    "        if name.count(\"a\") >= 2:\n",
    "            name_of_interest1.append(name)\n",
    "name_of_interest1 # ['Amanda', 'Maria', 'Natalia']\n",
    "\n",
    "# Method 2. for loop + list comprehension\n",
    "name_of_interest2 = []\n",
    "for lst in all_names:\n",
    "    temp_list = [name for name in lst if name.count(\"a\") >= 2]\n",
    "    name_of_interest2.extend(temp_list)\n",
    "name_of_interest2\n",
    "\n",
    "# Method 3. nested list comprehension\n",
    "name_of_interest3 = [\n",
    "    name\n",
    "    for lst in all_names\n",
    "    for name in lst\n",
    "    if name.count(\"a\") >= 2\n",
    "]\n",
    "name_of_interest3"
   ]
  },
  {
   "cell_type": "markdown",
   "id": "e8101ead",
   "metadata": {},
   "source": [
    "## Functions\n",
    "\n",
    "We have already studied both built-in and user functions in our Real Python tutorial—referring to Obsidian notes for more details.\n",
    "\n",
    "### Namespace, Scope, and Local Functions\n",
    "\n",
    "You need to know the LEGB (local, enclosing, global, and built-in) scoping rule. You could also declare a global or nonlocal variable within your function (but probably not a good idea).\n",
    "\n",
    "### Functions are Objects"
   ]
  },
  {
   "cell_type": "code",
   "execution_count": 159,
   "id": "d29f4f6a",
   "metadata": {},
   "outputs": [
    {
     "name": "stdout",
     "output_type": "stream",
     "text": [
      "[]\n",
      "[0, 1, 2, 3, 4]\n",
      "[0, 1, 2, 3, 4, 0, 1, 2, 3, 4]\n"
     ]
    }
   ],
   "source": [
    "# local variable a disappears after the function\n",
    "def func():\n",
    "    a = []\n",
    "    for i in range(5):\n",
    "        a.append(i)\n",
    "\n",
    "# define a outside of the function\n",
    "a = []\n",
    "def func():    \n",
    "    for i in range(5):\n",
    "        a.append(i)\n",
    "print(a) # []\n",
    "func()\n",
    "print(a) # [0, 1, 2, 3, 4]\n",
    "func()\n",
    "print(a) # [0, 1, 2, 3, 4, 0, 1, 2, 3, 4]"
   ]
  },
  {
   "cell_type": "code",
   "execution_count": 160,
   "id": "68001157",
   "metadata": {},
   "outputs": [
    {
     "name": "stdout",
     "output_type": "stream",
     "text": [
      "5\n"
     ]
    }
   ],
   "source": [
    "# Returning multiple values\n",
    "def func2():\n",
    "    a = 5\n",
    "    b = 6\n",
    "    c = 7\n",
    "    return a, b, c\n",
    "my_values = func2() # (5, 6, 7)\n",
    "x, y, z = func2()\n",
    "print(x) # 5\n",
    "\n",
    "# Returning a dict\n",
    "def func3():\n",
    "    a = 5\n",
    "    b = 6\n",
    "    c = 7\n",
    "    return {'a': a, 'b': b, 'c': c}\n",
    "my_dict = func3() # {'a': 5, 'b': 6, 'c': 7}"
   ]
  },
  {
   "cell_type": "code",
   "execution_count": 161,
   "id": "a9116e63",
   "metadata": {},
   "outputs": [
    {
     "name": "stdout",
     "output_type": "stream",
     "text": [
      "  Alabama\n",
      "Georgia\n",
      "georgia\n",
      "FloriDA\n",
      "south carolina\n"
     ]
    }
   ],
   "source": [
    "# An example of how to write data cleaning functions\n",
    "states = [\"  Alabama?\", \"Georgia!\", \"georgia\", \"FloriDA\", \"south carolina##\"]\n",
    "import re\n",
    "\n",
    "# Method 1. write a sequence of functions\n",
    "def clean_strings1(strings):\n",
    "    result = []\n",
    "    for string in strings:\n",
    "        string = string.strip()\n",
    "        string = re.sub(\"[!#?]\", \"\", string)\n",
    "        string = string.title()\n",
    "        result.append(string)\n",
    "    return result\n",
    "\n",
    "clean_strings1(states) # ['Alabama', 'Georgia', 'Georgia', 'Florida', 'South Carolina']\n",
    "\n",
    "# Method 2. use a list of operations\n",
    "def remove_punctuation(string):\n",
    "    return re.sub(\"[!#?]\", \"\", string)\n",
    "\n",
    "clean_ops = [str.strip, remove_punctuation, str.title]\n",
    "\n",
    "def clean_strings2(strings, ops):\n",
    "    result = []\n",
    "    for string in strings:\n",
    "        for func in ops:\n",
    "            string = func(string)\n",
    "        result.append(string)\n",
    "    return result\n",
    "\n",
    "clean_strings2(states, clean_ops) # ['Alabama', 'Georgia', 'Georgia', 'Florida', 'South Carolina']\n",
    "\n",
    "# Method 3. You can also use the map function\n",
    "for state in map(remove_punctuation, states):\n",
    "    print(state)"
   ]
  },
  {
   "cell_type": "markdown",
   "id": "f898c3e8",
   "metadata": {},
   "source": [
    "### Anonymous (Lambda) Functions\n",
    "\n",
    "Python has support for in-line/anonymous lambda functions. Here is a simple example of how to use a lambda function to sort a list based on the number of unique letters in each string."
   ]
  },
  {
   "cell_type": "code",
   "execution_count": null,
   "id": "4309edcc",
   "metadata": {},
   "outputs": [
    {
     "data": {
      "text/plain": [
       "['aaaa', 'foo', 'abab', 'bar', 'card']"
      ]
     },
     "execution_count": 168,
     "metadata": {},
     "output_type": "execute_result"
    }
   ],
   "source": [
    "# Here is how set() function works\n",
    "x = \"hello\"\n",
    "set(x) # {'e', 'h', 'l', 'o'}\n",
    "\n",
    "# An example of using lambda function\n",
    "strings = [\"foo\", \"card\", \"bar\", \"aaaa\", \"abab\"]\n",
    "strings.sort(key=lambda x: len(set(x)))\n",
    "# ['aaaa', 'foo', 'abab', 'bar', 'card']"
   ]
  },
  {
   "cell_type": "markdown",
   "id": "96b1c87c",
   "metadata": {},
   "source": [
    "### Generators\n",
    "\n",
    "A *generator* is a convenience way, similar to writing a normal function, to construct a new iterable object. Instead of the typical `return` statement, you replace it with the `yield` keyword. Generators are typically more memory efficient than typical iterators."
   ]
  },
  {
   "cell_type": "code",
   "execution_count": 174,
   "id": "c74a7226",
   "metadata": {},
   "outputs": [
    {
     "name": "stdout",
     "output_type": "stream",
     "text": [
      "1\n",
      "4\n",
      "9\n",
      "16\n",
      "25\n"
     ]
    }
   ],
   "source": [
    "# A generator example\n",
    "def squares(n=10):\n",
    "    for i in range(1, n+1):\n",
    "        yield i ** 2\n",
    "gen = squares(5)\n",
    "gen # <generator object squares at 0x0000016E7414FD80>\n",
    "\n",
    "for x in gen:\n",
    "    print(x)"
   ]
  },
  {
   "cell_type": "code",
   "execution_count": 179,
   "id": "e02ae871",
   "metadata": {},
   "outputs": [
    {
     "data": {
      "text/plain": [
       "{'item0': 0, 'item1': 1, 'item2': 4, 'item3': 9, 'item4': 16}"
      ]
     },
     "execution_count": 179,
     "metadata": {},
     "output_type": "execute_result"
    }
   ],
   "source": [
    "# Generator expression looks similar to list comprehension\n",
    "# except that you use a pair of parenthesis\n",
    "gen = (x**2 for x in range(100))\n",
    "gen # <generator object <genexpr> at 0x0000016E14E4A260>\n",
    "sum(gen) # 328350\n",
    "\n",
    "# another example\n",
    "dict((\"item\"+str(i), i**2) for i in range(5))"
   ]
  },
  {
   "cell_type": "markdown",
   "id": "9ab09c19",
   "metadata": {},
   "source": [
    "### `itertools` module\n",
    "\n",
    "There are a few functions from `itertools`:\n",
    "- `chain(*iterables)` generates a sequence by chaining iterators together, basically flattening multiple iterables without nesting\n",
    "- `combinations(iterable, k)` generates a sequence of all possible k-tuples of elements in the iterable, ignoring order and without replacement\n",
    "- `permutations(iterable, k)` generates a sequence of all possible k-typles of elements in the iterable, respecting order\n",
    "- `groupby(iterable, keyfunc)` gernates (key, sub-iterator) for each unique key\n",
    "- `product(*iterables, repeat=1)` generates the Cartesian product of the input iterables as tuples, similar to a nested `for` loop"
   ]
  },
  {
   "cell_type": "code",
   "execution_count": 180,
   "id": "b1fe4a32",
   "metadata": {},
   "outputs": [
    {
     "name": "stdout",
     "output_type": "stream",
     "text": [
      "A ['Adam', 'Adrian', 'Allen']\n",
      "B ['Betty']\n",
      "W ['William', 'Will']\n",
      "C ['Christine']\n"
     ]
    }
   ],
   "source": [
    "# An example with groupby\n",
    "import itertools\n",
    "\n",
    "def first_letter(x):\n",
    "    return x[0]\n",
    "\n",
    "names = [\"Adam\", \"Adrian\", \"Allen\", \"Betty\", \"William\", \"Will\", \"Christine\"]\n",
    "\n",
    "for letter, names in itertools.groupby(names, first_letter):\n",
    "    print(letter, list(names))"
   ]
  },
  {
   "cell_type": "code",
   "execution_count": 182,
   "id": "c782e649",
   "metadata": {},
   "outputs": [
    {
     "name": "stdout",
     "output_type": "stream",
     "text": [
      "[('a', 'b'), ('a', 'c'), ('a', 'd'), ('b', 'c'), ('b', 'd'), ('c', 'd')]\n"
     ]
    }
   ],
   "source": [
    "# Another example using combinations\n",
    "letters = ['a', 'b', 'c', 'd']\n",
    "results = list(itertools.combinations(letters, 2))\n",
    "print(results)"
   ]
  },
  {
   "cell_type": "markdown",
   "id": "34036510",
   "metadata": {},
   "source": [
    "### Error Handling\n",
    "\n",
    "You can handle errors more gracefully. For example, you can use `try` and `except` blocks."
   ]
  },
  {
   "cell_type": "code",
   "execution_count": null,
   "id": "bd7214d8",
   "metadata": {},
   "outputs": [
    {
     "data": {
      "text/plain": [
       "(1, 2)"
      ]
     },
     "execution_count": 189,
     "metadata": {},
     "output_type": "execute_result"
    }
   ],
   "source": [
    "# Example 1. Catch ValueError\n",
    "\n",
    "def attempt_float(x):\n",
    "    try:\n",
    "        return float(x)\n",
    "    except:\n",
    "        return x\n",
    "    \n",
    "attempt_float(\"1.234\") # 1.234\n",
    "attempt_float(\"hello\") # 'hello'\n",
    "attempt_float((1, 2)) # (1, 2)\n",
    "\n",
    "# Example 2. If you only want to catch ValueError, not TypeError\n",
    "def attempt_float2(x):\n",
    "    try:\n",
    "        return float(x)\n",
    "    except ValueError:\n",
    "        return x\n",
    "    \n",
    "# attempt_float2((1, 2)) # TypeError\n",
    "\n",
    "# Example 3. You want to explicitly catch only ValueError and TypeError\n",
    "def attempt_float3(x):\n",
    "    try:\n",
    "        return float(x)\n",
    "    except (ValueError, TypeError):\n",
    "        return x\n",
    "    \n",
    "attempt_float3((1, 2)) # (1, 2)"
   ]
  },
  {
   "cell_type": "code",
   "execution_count": null,
   "id": "e827ccd4",
   "metadata": {},
   "outputs": [
    {
     "data": {
      "text/plain": [
       "['apple', 'banana', 'cherry', 'orange', 'mango', 'pear']"
      ]
     },
     "execution_count": 209,
     "metadata": {},
     "output_type": "execute_result"
    }
   ],
   "source": [
    "# Using with context manager to read files\n",
    "\n",
    "from pathlib import Path\n",
    "path = Path(\"fruits2.txt\").resolve()\n",
    "#p = Path(str(path).strip()).resolve()\n",
    "with open(path, encoding=\"utf-8\") as f:\n",
    "    lines = [x.rstrip() for x in f]\n",
    "lines"
   ]
  },
  {
   "cell_type": "code",
   "execution_count": 211,
   "id": "c7efb63a",
   "metadata": {},
   "outputs": [
    {
     "data": {
      "text/plain": [
       "WindowsPath('fruits2.txt')"
      ]
     },
     "execution_count": 211,
     "metadata": {},
     "output_type": "execute_result"
    }
   ],
   "source": [
    "path2 = Path(\"fruits2.txt\")\n",
    "path2"
   ]
  },
  {
   "cell_type": "code",
   "execution_count": null,
   "id": "8fb32dd4",
   "metadata": {},
   "outputs": [],
   "source": []
  }
 ],
 "metadata": {
  "kernelspec": {
   "display_name": "Python 3.12 (l5)",
   "language": "python",
   "name": "l5-312"
  },
  "language_info": {
   "codemirror_mode": {
    "name": "ipython",
    "version": 3
   },
   "file_extension": ".py",
   "mimetype": "text/x-python",
   "name": "python",
   "nbconvert_exporter": "python",
   "pygments_lexer": "ipython3",
   "version": "3.13.7"
  }
 },
 "nbformat": 4,
 "nbformat_minor": 5
}
