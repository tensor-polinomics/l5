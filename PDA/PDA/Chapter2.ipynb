{
 "cells": [
  {
   "cell_type": "markdown",
   "id": "2471cc6b",
   "metadata": {},
   "source": [
    "# Chapter 2. Python Language Basics\n",
    "\n",
    "## The IPython Shell\n",
    "\n",
    "The IPython shell can be useful for quick analysis. It's more refined than the plain vanilla Python shell, but much leaner than Jupyter Notebook. From Terminal, you type `ipython` to initialize IPython. To quit, type `exit()`.\n",
    "\n",
    "- In IPython, you can use <TAB> completion.\n",
    "- You can examine a varilable with a `?` before or after. This is called *introspection*, which can be very handy.\n",
    "- You can apply *object introspection* in the same way.\n",
    "- You can search for namespace with something like np.*load*?`."
   ]
  },
  {
   "cell_type": "code",
   "execution_count": 8,
   "id": "0a8f09d0",
   "metadata": {},
   "outputs": [
    {
     "name": "stdout",
     "output_type": "stream",
     "text": [
      "[0.5850448357389221, 1.5696650845786004, 1.6173984883480406, 1.0171754438208267, 2.5965696501341395, 0.6053699272696937, -0.12650842010681412]\n"
     ]
    },
    {
     "name": "stdout",
     "output_type": "stream",
     "text": [
      "\u001b[31mType:\u001b[39m        list\n",
      "\u001b[31mString form:\u001b[39m [0.5850448357389221, 1.5696650845786004, 1.6173984883480406, 1.0171754438208267, 2.5965696501341395, 0.6053699272696937, -0.12650842010681412]\n",
      "\u001b[31mLength:\u001b[39m      7\n",
      "\u001b[31mDocstring:\u001b[39m  \n",
      "Built-in mutable sequence.\n",
      "\n",
      "If no argument is given, the constructor creates a new empty list.\n",
      "The argument must be an iterable if specified."
     ]
    }
   ],
   "source": [
    "import numpy as np\n",
    "\n",
    "data =[np.random.standard_normal() for i in range(7)]\n",
    "print(data)\n",
    "data?"
   ]
  },
  {
   "cell_type": "markdown",
   "id": "4d91a856",
   "metadata": {},
   "source": [
    "### Variables and argument passing\n",
    "\n",
    "In Python, if you assign another variable (`b`) to one variable (`a`), you don't copy the data over. Instead, both variables refer to the same object.\n",
    "\n",
    "Assignment is also know as *binding*. Variable names that have been assigned are also referred to as *bound variables*."
   ]
  },
  {
   "cell_type": "code",
   "execution_count": 10,
   "id": "11caca66",
   "metadata": {},
   "outputs": [
    {
     "data": {
      "text/plain": [
       "[1, 2, 3, 4]"
      ]
     },
     "execution_count": 10,
     "metadata": {},
     "output_type": "execute_result"
    }
   ],
   "source": [
    "a = [1, 2, 3]\n",
    "b = a\n",
    "a.append(4)\n",
    "b"
   ]
  },
  {
   "cell_type": "code",
   "execution_count": 19,
   "id": "be3912ac",
   "metadata": {},
   "outputs": [
    {
     "data": {
      "text/plain": [
       "[1, 2, 3, 4, 5]"
      ]
     },
     "execution_count": 19,
     "metadata": {},
     "output_type": "execute_result"
    }
   ],
   "source": [
    "# You can alter the internal of a mutable argument with a function (side effect)\n",
    "def append_element(my_list, element):\n",
    "    my_list.extend(element)\n",
    "    \n",
    "data = [1, 2, 3]\n",
    "append_element(data, (4, 5))\n",
    "data"
   ]
  },
  {
   "cell_type": "markdown",
   "id": "3fee2732",
   "metadata": {},
   "source": [
    "### Strongly typed language\n",
    "\n",
    "Python is a strongly type language, meaning every object has a specific type (or class), and implicit conversions will only occur in certain permitted circumstances. You can check whether an object is an instance of a particular type using the `isinstance(object, class)` function.\n",
    "\n",
    "### Duck typing\n",
    "\n",
    "Often you may not care about the type of an object, but rather only whether it has certain methods or behavior. This is called *duck typing*. For example, if you verify whether an object is iterable (whether it implements the iterator protocol). For many objects, this means it has an `__iter__` magic method, through a `iter` function. Here is an example."
   ]
  },
  {
   "cell_type": "code",
   "execution_count": null,
   "id": "cd98af60",
   "metadata": {},
   "outputs": [
    {
     "data": {
      "text/plain": [
       "False"
      ]
     },
     "execution_count": 22,
     "metadata": {},
     "output_type": "execute_result"
    }
   ],
   "source": [
    "def isiterable(obj):\n",
    "    try:\n",
    "        iter(obj)\n",
    "        return True\n",
    "    except TypeError:\n",
    "        return False\n",
    "    \n",
    "isiterable(\"a string\") # True\n",
    "isiterable([1, 2, 3]) # True\n",
    "isiterable(5) # False"
   ]
  },
  {
   "cell_type": "markdown",
   "id": "862f477d",
   "metadata": {},
   "source": [
    "# Imports\n",
    "\n",
    "In Python, a *module* is a file with `.py` extension containing Python code. You can import functions (as well as other variables) in four ways:\n",
    "- `import my_module`: you can use functions with `my_module.my_function()`\n",
    "- `from my_module import my_function`: you can use `my_function()` directly\n",
    "- `import my_module as mm`: you can use your function with `mm.my_function()`\n",
    "- `from my_module import my_function as mf`: you can use your function with `mf()`\n",
    "\n",
    "### Binary operators\n",
    "\n",
    "Here is a list of common binary operators:\n",
    "- `+`, `-`, `*`, and `/`\n",
    "- `//` floor division (integer division)\n",
    "- `%` modulo (remainder)\n",
    "- `**` power\n",
    "- logical: `&` (and), `|` (or), `^` (a ir b but not both)\n",
    "- `==` and `!=`\n",
    "- `>`, `>=`, `<`, and `<=`\n",
    "- `a is b` True is a and b reference the same Python object (or `a is not b`)\n",
    "\n",
    "You can use `is` to check if a variable is `None`: `a is None`.\n",
    "\n",
    "### Scalar types\n",
    "\n",
    "Python has a small set of built-in types for handling numerical data, strings, Boolean, and dates/time. These *single value* types are sometimes called *scalar types*:\n",
    "- `None`: null value (only one instance of the `None` object exists)\n",
    "- `str`: string type in Unicode\n",
    "- `bytes`: raw binary data\n",
    "- `float`\n",
    "- `bool` in `True` or `False`\n",
    "- `int`\n",
    "\n",
    "### Strings\n",
    "\n",
    "String literals can be quoted using either single `'` or double `\"`. For multiline strings, you quote them with `'''` or `\"\"\"`.\n",
    "\n",
    "Strings are immutable. If you need to modify a string, you have to use a function of method that creates a new string.\n",
    "\n",
    "You can convert many objects to strings with `str()`."
   ]
  },
  {
   "cell_type": "code",
   "execution_count": 24,
   "id": "32d65cbf",
   "metadata": {},
   "outputs": [
    {
     "data": {
      "text/plain": [
       "'This is a text!'"
      ]
     },
     "execution_count": 24,
     "metadata": {},
     "output_type": "execute_result"
    }
   ],
   "source": [
    "str1 = \"This is a string!\"\n",
    "str2 = str1.replace(\"string\", \"text\")\n",
    "str2"
   ]
  },
  {
   "cell_type": "code",
   "execution_count": null,
   "id": "37e41e8c",
   "metadata": {},
   "outputs": [
    {
     "data": {
      "text/plain": [
       "['y', 't']"
      ]
     },
     "execution_count": 28,
     "metadata": {},
     "output_type": "execute_result"
    }
   ],
   "source": [
    "# strings are iterables\n",
    "str3 = \"python\"\n",
    "list1 = list(str3)\n",
    "list1 # ['p', 'y', 't', 'h', 'o', 'n']\n",
    "list1[1:3] # ['y', 't']"
   ]
  },
  {
   "cell_type": "code",
   "execution_count": null,
   "id": "e0e42e83",
   "metadata": {},
   "outputs": [
    {
     "data": {
      "text/plain": [
       "'HelloHelloHello'"
      ]
     },
     "execution_count": 38,
     "metadata": {},
     "output_type": "execute_result"
    }
   ],
   "source": [
    "# Escape special characters\n",
    "str4 = \"special \\\\\" \n",
    "str4 # 'special \\\\'\n",
    "\n",
    "# Use raw strings\n",
    "str5 = r\"There is no \\special\\character\\in\\this\\string\"\n",
    "str5 # 'There is no \\\\special\\\\character\\\\in\\\\this\\\\string'\n",
    "\n",
    "# You can add and multiple strings\n",
    "str6 = \"Hello\"\n",
    "str7 = \"World\" \n",
    "str6 + str7 # 'HelloWorld'\n",
    "str6 * 3 # 'HelloHelloHello'"
   ]
  },
  {
   "cell_type": "markdown",
   "id": "38500f51",
   "metadata": {},
   "source": [
    "### Booleans\n",
    "\n",
    "Boolean values are combined with the `and`, `or`, and `not` keywords.\n",
    "\n",
    "### Type casting\n",
    "\n",
    "The `str`, `bool`, `int`, and `float` types are also functions that can be used to cast values to those types."
   ]
  },
  {
   "cell_type": "code",
   "execution_count": null,
   "id": "5747f025",
   "metadata": {},
   "outputs": [
    {
     "data": {
      "text/plain": [
       "datetime.timedelta"
      ]
     },
     "execution_count": 59,
     "metadata": {},
     "output_type": "execute_result"
    }
   ],
   "source": [
    "# Dates and times\n",
    "from datetime import datetime, date, time\n",
    "\n",
    "dt = datetime(2025, 9, 18, 11, 5, 30)\n",
    "dt # datetime.datetime(2025, 9, 18, 11, 5, 30)\n",
    "dt.hour # 11\n",
    "dt.date() # datetime.date(2025, 9, 18)\n",
    "\n",
    "# strftime: format a datetime as a string\n",
    "dt.strftime(\"%Y-%m-%d\") # '2025-09-18'\n",
    "\n",
    "# strptime: parse a string to datetime object\n",
    "datetime.strptime(\"20250918\", \"%Y%m%d\") # datetime.datetime(2025, 9, 18, 0, 0)\n",
    "\n",
    "# change time with replace\n",
    "dt2 = dt.replace(day=1)\n",
    "dt # not changed! datetime.datetime(2025, 9, 18, 11, 5, 30)\n",
    "dt2 # has to be assigned to a different var\n",
    "\n",
    "# timedelta\n",
    "dt_delta = dt - dt2\n",
    "dt_delta # datetime.timedelta(days=17)\n",
    "dt3 = dt + dt_delta\n",
    "dt3 # datetime.datetime(2025, 10, 5, 11, 5, 30)\n",
    "type(dt_delta) # datetime.timedelta"
   ]
  },
  {
   "cell_type": "markdown",
   "id": "c754d91a",
   "metadata": {},
   "source": [
    "### Difference between `continue` and `break` in a `for` loop\n",
    "\n",
    "In a `for` loop, `continue` means that you advance to the next iteration, while `break` will exit from the current loop altogether."
   ]
  },
  {
   "cell_type": "code",
   "execution_count": null,
   "id": "652e7517",
   "metadata": {},
   "outputs": [
    {
     "name": "stdout",
     "output_type": "stream",
     "text": [
      "15\n",
      "3\n"
     ]
    }
   ],
   "source": [
    "sequence = [1, 2, None, 3, 4, None, 5]\n",
    "total = 0 \n",
    "for i in sequence:\n",
    "    if i is None:\n",
    "        continue\n",
    "    total += i\n",
    "print(total) # 15\n",
    "\n",
    "total = 0 \n",
    "for i in sequence:\n",
    "    if i is None:\n",
    "        break\n",
    "    total += i\n",
    "print(total) # 3"
   ]
  },
  {
   "cell_type": "code",
   "execution_count": null,
   "id": "813b435f",
   "metadata": {},
   "outputs": [],
   "source": []
  }
 ],
 "metadata": {
  "kernelspec": {
   "display_name": "Python 3.12 (l5)",
   "language": "python",
   "name": "l5-312"
  },
  "language_info": {
   "codemirror_mode": {
    "name": "ipython",
    "version": 3
   },
   "file_extension": ".py",
   "mimetype": "text/x-python",
   "name": "python",
   "nbconvert_exporter": "python",
   "pygments_lexer": "ipython3",
   "version": "3.13.7"
  }
 },
 "nbformat": 4,
 "nbformat_minor": 5
}
