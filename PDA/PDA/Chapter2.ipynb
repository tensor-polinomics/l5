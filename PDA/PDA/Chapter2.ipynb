{
 "cells": [
  {
   "cell_type": "markdown",
   "id": "2471cc6b",
   "metadata": {},
   "source": [
    "# Chapter 2. Python Language Basics\n",
    "\n",
    "## The IPython Shell\n",
    "\n",
    "The IPython shell can be useful for quick analysis. It's more refined than the plain vanilla Python shell, but much leaner than Jupyter Notebook. From Terminal, you type `ipython` to initialize IPython. To quit, type `exit()`.\n",
    "\n",
    "- In IPython, you can use <TAB> completion.\n",
    "- You can examine a varilable with a `?` before or after. This is called *introspection*, which can be very handy.\n",
    "- You can apply *object introspection* in the same way.\n",
    "- You can search for namespace with something like np.*load*?`."
   ]
  },
  {
   "cell_type": "code",
   "execution_count": 8,
   "id": "0a8f09d0",
   "metadata": {},
   "outputs": [
    {
     "name": "stdout",
     "output_type": "stream",
     "text": [
      "[0.5850448357389221, 1.5696650845786004, 1.6173984883480406, 1.0171754438208267, 2.5965696501341395, 0.6053699272696937, -0.12650842010681412]\n"
     ]
    },
    {
     "name": "stdout",
     "output_type": "stream",
     "text": [
      "\u001b[31mType:\u001b[39m        list\n",
      "\u001b[31mString form:\u001b[39m [0.5850448357389221, 1.5696650845786004, 1.6173984883480406, 1.0171754438208267, 2.5965696501341395, 0.6053699272696937, -0.12650842010681412]\n",
      "\u001b[31mLength:\u001b[39m      7\n",
      "\u001b[31mDocstring:\u001b[39m  \n",
      "Built-in mutable sequence.\n",
      "\n",
      "If no argument is given, the constructor creates a new empty list.\n",
      "The argument must be an iterable if specified."
     ]
    }
   ],
   "source": [
    "import numpy as np\n",
    "\n",
    "data =[np.random.standard_normal() for i in range(7)]\n",
    "print(data)\n",
    "data?"
   ]
  },
  {
   "cell_type": "markdown",
   "id": "4d91a856",
   "metadata": {},
   "source": [
    "### Variables and argument passing\n",
    "\n",
    "In Python, if you assign another variable (`b`) to one variable (`a`), you don't copy the data over. Instead, both variables refer to the same object.\n",
    "\n",
    "Assignment is also know as *binding*. Variable names that have been assigned are also referred to as *bound variables*."
   ]
  },
  {
   "cell_type": "code",
   "execution_count": 10,
   "id": "11caca66",
   "metadata": {},
   "outputs": [
    {
     "data": {
      "text/plain": [
       "[1, 2, 3, 4]"
      ]
     },
     "execution_count": 10,
     "metadata": {},
     "output_type": "execute_result"
    }
   ],
   "source": [
    "a = [1, 2, 3]\n",
    "b = a\n",
    "a.append(4)\n",
    "b"
   ]
  },
  {
   "cell_type": "code",
   "execution_count": 19,
   "id": "be3912ac",
   "metadata": {},
   "outputs": [
    {
     "data": {
      "text/plain": [
       "[1, 2, 3, 4, 5]"
      ]
     },
     "execution_count": 19,
     "metadata": {},
     "output_type": "execute_result"
    }
   ],
   "source": [
    "# You can alter the internal of a mutable argument with a function (side effect)\n",
    "def append_element(my_list, element):\n",
    "    my_list.extend(element)\n",
    "    \n",
    "data = [1, 2, 3]\n",
    "append_element(data, (4, 5))\n",
    "data"
   ]
  },
  {
   "cell_type": "markdown",
   "id": "3fee2732",
   "metadata": {},
   "source": [
    "### Strongly typed language\n",
    "\n",
    "Python is a strongly type language, meaning every object has a specific type (or class), and implicit conversions will only occur in certain permitted circumstances. You can check whether an object is an instance of a particular type using the `isinstance(object, class)` function.\n",
    "\n",
    "### Duck typing\n",
    "\n",
    "Often you may not care about the type of an object, but rather only whether it has certain methods or behavior. This is called *duck typing*. For example, if you verify whether an object is iterable (whether it implements the iterator protocol). For many objects, this means it has an `__iter__` magic method, through a `iter` function. Here is an example."
   ]
  },
  {
   "cell_type": "code",
   "execution_count": null,
   "id": "cd98af60",
   "metadata": {},
   "outputs": [
    {
     "data": {
      "text/plain": [
       "False"
      ]
     },
     "execution_count": 22,
     "metadata": {},
     "output_type": "execute_result"
    }
   ],
   "source": [
    "def isiterable(obj):\n",
    "    try:\n",
    "        iter(obj)\n",
    "        return True\n",
    "    except TypeError:\n",
    "        return False\n",
    "    \n",
    "isiterable(\"a string\") # True\n",
    "isiterable([1, 2, 3]) # True\n",
    "isiterable(5) # False"
   ]
  },
  {
   "cell_type": "markdown",
   "id": "862f477d",
   "metadata": {},
   "source": [
    "# Imports\n",
    "\n",
    "In Python, a *module* is a file with `.py` extension containing Python code. You can import functions (as well as other variables) in four ways:\n",
    "- `import my_module`: you can use functions with `my_module.my_function()`\n",
    "- `from my_module import my_function`: you can use `my_function()` directly\n",
    "- `import my_module as mm`: you can use your function with `mm.my_function()`\n",
    "- `from my_module import my_function as mf`: you can use your function with `mf()`"
   ]
  },
  {
   "cell_type": "code",
   "execution_count": null,
   "id": "32d65cbf",
   "metadata": {},
   "outputs": [],
   "source": []
  }
 ],
 "metadata": {
  "kernelspec": {
   "display_name": "Python 3.12 (l5)",
   "language": "python",
   "name": "l5-312"
  },
  "language_info": {
   "codemirror_mode": {
    "name": "ipython",
    "version": 3
   },
   "file_extension": ".py",
   "mimetype": "text/x-python",
   "name": "python",
   "nbconvert_exporter": "python",
   "pygments_lexer": "ipython3",
   "version": "3.13.7"
  }
 },
 "nbformat": 4,
 "nbformat_minor": 5
}
