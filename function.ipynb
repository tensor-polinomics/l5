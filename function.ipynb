{
 "cells": [
  {
   "cell_type": "code",
   "execution_count": 8,
   "id": "a6771900",
   "metadata": {},
   "outputs": [
    {
     "data": {
      "text/plain": [
       "7"
      ]
     },
     "execution_count": 8,
     "metadata": {},
     "output_type": "execute_result"
    }
   ],
   "source": [
    "type Number = int | float\n",
    "\n",
    "def add(a: Number, b: Number) -> Number:\n",
    "    return a + b\n",
    "\n",
    "add(3, 4)"
   ]
  },
  {
   "cell_type": "code",
   "execution_count": 2,
   "id": "c3b38313",
   "metadata": {},
   "outputs": [
    {
     "data": {
      "text/plain": [
       "'01:01:20'"
      ]
     },
     "execution_count": 2,
     "metadata": {},
     "output_type": "execute_result"
    }
   ],
   "source": [
    "def hh_mm_ss(milliseconds):\n",
    "    seconds = round(milliseconds / 1000)\n",
    "    minutes, seconds = divmod(seconds, 60)\n",
    "    hours, minutes = divmod(minutes, 60)\n",
    "    return f\"{hours:02d}:{minutes:02d}:{seconds:02d}\"\n",
    "\n",
    "hh_mm_ss(3680000)"
   ]
  },
  {
   "cell_type": "code",
   "execution_count": 6,
   "id": "d7b9bb3b",
   "metadata": {},
   "outputs": [
    {
     "data": {
      "text/plain": [
       "'NA'"
      ]
     },
     "execution_count": 6,
     "metadata": {},
     "output_type": "execute_result"
    }
   ],
   "source": [
    "max([], default=\"NA\")"
   ]
  },
  {
   "cell_type": "code",
   "execution_count": 5,
   "id": "6c7532a7",
   "metadata": {},
   "outputs": [
    {
     "data": {
      "text/plain": [
       "-2"
      ]
     },
     "execution_count": 5,
     "metadata": {},
     "output_type": "execute_result"
    }
   ],
   "source": [
    "min([-2, 4, 5, -10], key=abs)"
   ]
  },
  {
   "cell_type": "code",
   "execution_count": 7,
   "id": "37f0a882",
   "metadata": {},
   "outputs": [
    {
     "data": {
      "text/plain": [
       "1200"
      ]
     },
     "execution_count": 7,
     "metadata": {},
     "output_type": "execute_result"
    }
   ],
   "source": [
    "round(1234, -2)"
   ]
  },
  {
   "cell_type": "code",
   "execution_count": 9,
   "id": "149950ed",
   "metadata": {},
   "outputs": [
    {
     "data": {
      "text/plain": [
       "-4"
      ]
     },
     "execution_count": 9,
     "metadata": {},
     "output_type": "execute_result"
    }
   ],
   "source": [
    "int(-4.9)"
   ]
  },
  {
   "cell_type": "code",
   "execution_count": 11,
   "id": "c5671746",
   "metadata": {},
   "outputs": [
    {
     "data": {
      "text/plain": [
       "'3.14'"
      ]
     },
     "execution_count": 11,
     "metadata": {},
     "output_type": "execute_result"
    }
   ],
   "source": [
    "float('3.14')\n",
    "str(3.14)"
   ]
  },
  {
   "cell_type": "code",
   "execution_count": 12,
   "id": "26a8ed22",
   "metadata": {},
   "outputs": [
    {
     "data": {
      "text/plain": [
       "\"{'A', 'C', 'B'}\""
      ]
     },
     "execution_count": 12,
     "metadata": {},
     "output_type": "execute_result"
    }
   ],
   "source": [
    "str({\"A\", \"B\", \"C\"})"
   ]
  },
  {
   "cell_type": "code",
   "execution_count": 13,
   "id": "d8b7fbe7",
   "metadata": {},
   "outputs": [
    {
     "data": {
      "text/plain": [
       "'1-2-3-4-5'"
      ]
     },
     "execution_count": 13,
     "metadata": {},
     "output_type": "execute_result"
    }
   ],
   "source": [
    "\"-\".join(str(value) for value in [1, 2, 3, 4, 5])"
   ]
  },
  {
   "cell_type": "code",
   "execution_count": 17,
   "id": "21ef14f3",
   "metadata": {},
   "outputs": [
    {
     "data": {
      "text/plain": [
       "'2025-09-13 13:53:03.913429'"
      ]
     },
     "execution_count": 17,
     "metadata": {},
     "output_type": "execute_result"
    }
   ],
   "source": [
    "import datetime\n",
    "today = datetime.datetime.now()\n",
    "\n",
    "repr(today)\n",
    "\n",
    "str(today)"
   ]
  },
  {
   "cell_type": "code",
   "execution_count": 21,
   "id": "06ba6180",
   "metadata": {},
   "outputs": [
    {
     "data": {
      "text/plain": [
       "True"
      ]
     },
     "execution_count": 21,
     "metadata": {},
     "output_type": "execute_result"
    }
   ],
   "source": [
    "class Stack:\n",
    "    def __init__(self, items=None):\n",
    "        self.items = list(items) if items is not None else []\n",
    "        \n",
    "    def push(self, item):\n",
    "        self.items.append(item)\n",
    "        \n",
    "    def pop(self):\n",
    "        return self.items.pop()\n",
    "    \n",
    "    def __bool__(self):\n",
    "        return bool(self.items)\n",
    "    \n",
    "stack = Stack()\n",
    "bool(stack)\n",
    "stack.push(42)\n",
    "bool(stack)"
   ]
  },
  {
   "cell_type": "code",
   "execution_count": 22,
   "id": "cdca6766",
   "metadata": {},
   "outputs": [
    {
     "data": {
      "text/plain": [
       "65"
      ]
     },
     "execution_count": 22,
     "metadata": {},
     "output_type": "execute_result"
    }
   ],
   "source": [
    "ord(\"A\")"
   ]
  },
  {
   "cell_type": "code",
   "execution_count": 23,
   "id": "e5ca1462",
   "metadata": {},
   "outputs": [
    {
     "data": {
      "text/plain": [
       "'A'"
      ]
     },
     "execution_count": 23,
     "metadata": {},
     "output_type": "execute_result"
    }
   ],
   "source": [
    "chr(65)"
   ]
  },
  {
   "cell_type": "code",
   "execution_count": null,
   "id": "2804edce",
   "metadata": {},
   "outputs": [
    {
     "data": {
      "text/plain": [
       "[('name', 'John'), ('age', 30), ('city', 'New York')]"
      ]
     },
     "execution_count": 34,
     "metadata": {},
     "output_type": "execute_result"
    }
   ],
   "source": [
    "# Empty list\n",
    "list()\n",
    "\n",
    "# String to list\n",
    "list(\"Hello\") # ['H', 'e', 'l', 'l', 'o']\n",
    "\n",
    "# Tuple to list\n",
    "list((1, 2, 3, 4)) # [1, 2, 3, 4]\n",
    "\n",
    "# set to list, order is lost: ['banana', 'apple', 'orange']\n",
    "list({\"apple\", \"orange\", \"banana\"}) \n",
    "\n",
    "# Dict to list 1 (keys only)\n",
    "my_dict = {\"name\": \"John\", \"age\": 30, \"city\": \"New York\"}\n",
    "list(my_dict) # ['name', 'age', 'city']\n",
    "\n",
    "# Method 2: .keys() (same as 1)\n",
    "list(my_dict.keys()) # ['name', 'age', 'city']\n",
    "\n",
    "# Method 3. .values()\n",
    "list(my_dict.values()) # ['John', 30, 'New York']\n",
    "\n",
    "# Method 4. list of key-value pair\n",
    "list(my_dict.items()) # [('name', 'John'), ('age', 30), ('city', 'New York')]"
   ]
  },
  {
   "cell_type": "code",
   "execution_count": 36,
   "id": "20e83f9c",
   "metadata": {},
   "outputs": [
    {
     "data": {
      "text/plain": [
       "('banana', 'apple', 'orange')"
      ]
     },
     "execution_count": 36,
     "metadata": {},
     "output_type": "execute_result"
    }
   ],
   "source": [
    "tuple({\"apple\", \"orange\", \"banana\"})"
   ]
  },
  {
   "cell_type": "code",
   "execution_count": null,
   "id": "a9a81143",
   "metadata": {},
   "outputs": [
    {
     "data": {
      "text/plain": [
       "{'name': 'Jane', 'age': 30, 'country': 'Canada'}"
      ]
     },
     "execution_count": 44,
     "metadata": {},
     "output_type": "execute_result"
    }
   ],
   "source": [
    "# Empty dict\n",
    "dict() # {}\n",
    "\n",
    "# Signature 1: {'name': 'Jane', 'age': '30', 'country': 'Canada'}\n",
    "jane = dict(name=\"Jane\", age=\"30\", country=\"Canada\")\n",
    "\n",
    "# Signature 2: {'name': 'Jane', 'age': '30', 'country': 'Canada', 'job': 'Python Dev'}\n",
    "jane = dict(jane, job=\"Python Dev\")\n",
    "\n",
    "# Signature 3: {'name': 'Jane', 'age': 30, 'country': 'Canada'}\n",
    "dict([(\"name\", \"Jane\"), (\"age\", 30), (\"country\", \"Canada\")])"
   ]
  },
  {
   "cell_type": "code",
   "execution_count": 45,
   "id": "ae5bc74c",
   "metadata": {},
   "outputs": [
    {
     "data": {
      "text/plain": [
       "set()"
      ]
     },
     "execution_count": 45,
     "metadata": {},
     "output_type": "execute_result"
    }
   ],
   "source": [
    "set({})"
   ]
  },
  {
   "cell_type": "code",
   "execution_count": 46,
   "id": "07cecd1e",
   "metadata": {},
   "outputs": [
    {
     "data": {
      "text/plain": [
       "set()"
      ]
     },
     "execution_count": 46,
     "metadata": {},
     "output_type": "execute_result"
    }
   ],
   "source": [
    "set()"
   ]
  },
  {
   "cell_type": "code",
   "execution_count": 47,
   "id": "ceb99937",
   "metadata": {},
   "outputs": [
    {
     "data": {
      "text/plain": [
       "2"
      ]
     },
     "execution_count": 47,
     "metadata": {},
     "output_type": "execute_result"
    }
   ],
   "source": [
    "len({\"green\", \"green\", \"red\"})"
   ]
  },
  {
   "cell_type": "code",
   "execution_count": null,
   "id": "c9dfa1f0",
   "metadata": {},
   "outputs": [
    {
     "data": {
      "text/plain": [
       "[5, 4, 3, 2, 1]"
      ]
     },
     "execution_count": 50,
     "metadata": {},
     "output_type": "execute_result"
    }
   ],
   "source": [
    "my_list = [1, 2, 3, 4, 5]\n",
    "reversed(my_list) # an iterator object: <list_reverseiterator at 0x209084e9810>\n",
    "list(reversed(my_list)) # a list: [5, 4, 3, 2, 1]"
   ]
  },
  {
   "cell_type": "code",
   "execution_count": null,
   "id": "b039be78",
   "metadata": {},
   "outputs": [
    {
     "data": {
      "text/plain": [
       "[5, 4, 3, 2, 1]"
      ]
     },
     "execution_count": 53,
     "metadata": {},
     "output_type": "execute_result"
    }
   ],
   "source": [
    "sorted(\"filter\") #['e', 'f', 'i', 'l', 'r', 't']\n",
    "sorted(my_list) # [1, 2, 3, 4, 5]\n",
    "sorted(my_list, reverse=True) # [5, 4, 3, 2, 1]"
   ]
  },
  {
   "cell_type": "code",
   "execution_count": null,
   "id": "da63e1c5",
   "metadata": {},
   "outputs": [
    {
     "data": {
      "text/plain": [
       "[(1, 2), (4, 0), (3, 5), (6, 7)]"
      ]
     },
     "execution_count": 60,
     "metadata": {},
     "output_type": "execute_result"
    }
   ],
   "source": [
    "points = [(1, 2), (3, 5), (4, 0), (6, 7)]\n",
    "sorted(points, key=lambda point: point[1]) # [(4, 0), (1, 2), (3, 5), (6, 7)]\n",
    "sorted(points, key=max) # [(1, 2), (4, 0), (3, 5), (6, 7)]"
   ]
  },
  {
   "cell_type": "code",
   "execution_count": null,
   "id": "47ec2f97",
   "metadata": {},
   "outputs": [
    {
     "data": {
      "text/plain": [
       "True"
      ]
     },
     "execution_count": 63,
     "metadata": {},
     "output_type": "execute_result"
    }
   ],
   "source": [
    "numbers = [10, 5, 6, 4, 7, 8, 18]\n",
    "all(0 <= x <= 10 for x in numbers) # False\n",
    "any(0 <= x <= 10 for x in numbers) # True"
   ]
  },
  {
   "cell_type": "code",
   "execution_count": 66,
   "id": "c5c01915",
   "metadata": {},
   "outputs": [
    {
     "name": "stdout",
     "output_type": "stream",
     "text": [
      "Beep\n",
      "Beep\n",
      "Beep\n"
     ]
    }
   ],
   "source": [
    "range(10) # range(0, 10)\n",
    "list(range(1, 10, 2)) # [1, 3, 5, 7, 9]\n",
    "\n",
    "for _ in range(3):\n",
    "    print(\"Beep\")"
   ]
  },
  {
   "cell_type": "code",
   "execution_count": 68,
   "id": "143bd37f",
   "metadata": {},
   "outputs": [
    {
     "name": "stdout",
     "output_type": "stream",
     "text": [
      "Main Menu:\n",
      "0. Open\n",
      "1. Save\n",
      "2. Settings\n",
      "3. Quit\n"
     ]
    }
   ],
   "source": [
    "def list_menu(options):\n",
    "    print(\"Main Menu:\")\n",
    "    for index, option in enumerate(options):\n",
    "        print(f\"{index}. {option}\")\n",
    "        \n",
    "list_menu([\"Open\", \"Save\", \"Settings\", \"Quit\"])"
   ]
  },
  {
   "cell_type": "code",
   "execution_count": null,
   "id": "71f88a7e",
   "metadata": {},
   "outputs": [
    {
     "data": {
      "text/plain": [
       "['b', 'f', 'x']"
      ]
     },
     "execution_count": 73,
     "metadata": {},
     "output_type": "execute_result"
    }
   ],
   "source": [
    "letters = [\"b\", \"g\", \"f\", \"h\", \"x\"]\n",
    "even_letters = letters[slice(1, None, 2)]\n",
    "even_letters # ['g', 'h']\n",
    "\n",
    "# Using slicing operator\n",
    "odd_letters = letters[::2]\n",
    "odd_letters # ['b', 'f', 'x']"
   ]
  },
  {
   "cell_type": "code",
   "execution_count": 1,
   "id": "112232b5",
   "metadata": {},
   "outputs": [
    {
     "name": "stdout",
     "output_type": "stream",
     "text": [
      "('a', 1, '*')\n",
      "('b', 2, '/')\n",
      "('c', 3, '&')\n"
     ]
    }
   ],
   "source": [
    "letters = [\"a\", \"b\", \"c\", \"d\"]\n",
    "numbers = [1, 2, 3]\n",
    "operators = [\"*\", \"/\", \"&\"]\n",
    "\n",
    "for characters in zip(letters, numbers, operators):\n",
    "    print(characters)"
   ]
  },
  {
   "cell_type": "code",
   "execution_count": 3,
   "id": "b2843e0a",
   "metadata": {},
   "outputs": [
    {
     "name": "stdout",
     "output_type": "stream",
     "text": [
      "letter a and number 1, using operator *\n",
      "letter b and number 2, using operator /\n",
      "letter c and number 3, using operator &\n"
     ]
    }
   ],
   "source": [
    "for l, n, o in zip(letters, numbers, operators):\n",
    "    print(f\"letter {l} and number {n}, using operator {o}\")"
   ]
  },
  {
   "cell_type": "code",
   "execution_count": 4,
   "id": "de6f3cf9",
   "metadata": {},
   "outputs": [
    {
     "data": {
      "text/plain": [
       "{'a': 1, 'b': 2, 'c': 3}"
      ]
     },
     "execution_count": 4,
     "metadata": {},
     "output_type": "execute_result"
    }
   ],
   "source": [
    "dict(zip(letters, numbers))"
   ]
  },
  {
   "cell_type": "code",
   "execution_count": null,
   "id": "2c2ba85a",
   "metadata": {},
   "outputs": [
    {
     "ename": "StopIteration",
     "evalue": "",
     "output_type": "error",
     "traceback": [
      "\u001b[31m---------------------------------------------------------------------------\u001b[39m",
      "\u001b[31mStopIteration\u001b[39m                             Traceback (most recent call last)",
      "\u001b[36mCell\u001b[39m\u001b[36m \u001b[39m\u001b[32mIn[9]\u001b[39m\u001b[32m, line 7\u001b[39m\n\u001b[32m      5\u001b[39m \u001b[38;5;28mnext\u001b[39m(colors_it)\n\u001b[32m      6\u001b[39m \u001b[38;5;28mnext\u001b[39m(colors_it)\n\u001b[32m----> \u001b[39m\u001b[32m7\u001b[39m \u001b[38;5;28;43mnext\u001b[39;49m\u001b[43m(\u001b[49m\u001b[43mcolors_it\u001b[49m\u001b[43m)\u001b[49m\n",
      "\u001b[31mStopIteration\u001b[39m: "
     ]
    }
   ],
   "source": [
    "colors = [\"red\", \"green\", \"black\"]\n",
    "colors_it = iter(colors)\n",
    "colors_it # <list_iterator at 0x2410019a5c0>\n",
    "next(colors_it) # 'red'\n",
    "next(colors_it) # 'green'\n",
    "next(colors_it) # 'black'\n",
    "next(colors_it) # StopIteration exception"
   ]
  },
  {
   "cell_type": "code",
   "execution_count": 10,
   "id": "6bbfc3e3",
   "metadata": {},
   "outputs": [],
   "source": [
    "def read_user_input():\n",
    "    print(\"Enter your command (type 'done' to quit)\")\n",
    "    for word in iter(input, 'done'):\n",
    "        print(f\"Processing: '{word}'\")"
   ]
  },
  {
   "cell_type": "code",
   "execution_count": 11,
   "id": "2c4e365c",
   "metadata": {},
   "outputs": [
    {
     "data": {
      "text/plain": [
       "[6, 24]"
      ]
     },
     "execution_count": 11,
     "metadata": {},
     "output_type": "execute_result"
    }
   ],
   "source": [
    "numbers = [1, 4, 6, 10, 24, 14]\n",
    "list(filter(lambda n: n % 3 ==0, numbers))"
   ]
  },
  {
   "cell_type": "code",
   "execution_count": null,
   "id": "e946be0c",
   "metadata": {},
   "outputs": [
    {
     "data": {
      "text/plain": [
       "[1, 25, 81]"
      ]
     },
     "execution_count": 13,
     "metadata": {},
     "output_type": "execute_result"
    }
   ],
   "source": [
    "bases = [1, 5, 3]\n",
    "exponents = [3, 2, 4]\n",
    "map(pow, bases, exponents) # <map at 0x241003d7dc0>\n",
    "list(map(pow, bases, exponents)) # [1, 25, 81]"
   ]
  },
  {
   "cell_type": "code",
   "execution_count": 16,
   "id": "481af933",
   "metadata": {},
   "outputs": [
    {
     "name": "stdout",
     "output_type": "stream",
     "text": [
      "apple\n",
      "banana\n",
      "cherry\n",
      "orange\n",
      "mango\n"
     ]
    }
   ],
   "source": [
    "with open(\"fruits.txt\") as file:\n",
    "    print(file.read())"
   ]
  },
  {
   "cell_type": "code",
   "execution_count": 17,
   "id": "24deb408",
   "metadata": {},
   "outputs": [],
   "source": [
    "with open(\"hello.txt\", \"w\") as file:\n",
    "    file.write(\"Hello Python Functions!\")"
   ]
  },
  {
   "cell_type": "code",
   "execution_count": 18,
   "id": "9b320f4c",
   "metadata": {},
   "outputs": [],
   "source": [
    "with open(\"hello2.txt\", \"w\", encoding=\"utf-8\") as file:\n",
    "    file.write(\"Hello, Pythonista!\")"
   ]
  },
  {
   "cell_type": "code",
   "execution_count": 19,
   "id": "6f7087c0",
   "metadata": {},
   "outputs": [
    {
     "name": "stdout",
     "output_type": "stream",
     "text": [
      "Hello***Pythonista!\n"
     ]
    }
   ],
   "source": [
    "print(\"Hello\", \"Pythonista!\", sep=\"***\")"
   ]
  },
  {
   "cell_type": "code",
   "execution_count": 23,
   "id": "ff158b0d",
   "metadata": {},
   "outputs": [],
   "source": [
    "with open(\"hello3.txt\", mode=\"w\") as file:\n",
    "    print(\"Hello Pythonista!\", file=file)"
   ]
  },
  {
   "cell_type": "code",
   "execution_count": 27,
   "id": "25eced10",
   "metadata": {},
   "outputs": [
    {
     "name": "stdout",
     "output_type": "stream",
     "text": [
      "[                              ] 0%"
     ]
    },
    {
     "name": "stdout",
     "output_type": "stream",
     "text": [
      "[******************************] 100%*******                      ] 27%*********************         ] 72%***************************   ] 91%\n"
     ]
    }
   ],
   "source": [
    "from time import sleep\n",
    "from progress import progress\n",
    "\n",
    "for percent in range(101):\n",
    "    sleep(0.01)\n",
    "    progress(percent)"
   ]
  },
  {
   "cell_type": "code",
   "execution_count": null,
   "id": "6fe38c6c",
   "metadata": {},
   "outputs": [
    {
     "data": {
      "text/plain": [
       "'Sun Sep 14, 2025'"
      ]
     },
     "execution_count": 34,
     "metadata": {},
     "output_type": "execute_result"
    }
   ],
   "source": [
    "import math\n",
    "from datetime import datetime\n",
    "\n",
    "format(math.pi, \".4f\") # 4 decimal places: '3.1416'\n",
    "format(math.pi, \"e\") # scientific notation: '3.141593e+00'\n",
    "format(1234567, \",.2f\") # thousand separators: '1,234,567.00'\n",
    "format(\"Header\", \"=^30\") # Centered and filled: '============Header============'\n",
    "format(datetime.now(), \"%a %b %d, %Y\") # 'Sun Sep 14, 2025'"
   ]
  },
  {
   "cell_type": "code",
   "execution_count": 37,
   "id": "941aea1d",
   "metadata": {},
   "outputs": [
    {
     "data": {
      "text/plain": [
       "25"
      ]
     },
     "execution_count": 37,
     "metadata": {},
     "output_type": "execute_result"
    }
   ],
   "source": [
    "class Point:\n",
    "    def __init__(self, x, y):\n",
    "        self.x = x\n",
    "        self.y = y\n",
    "\n",
    "point = Point(2, 25)\n",
    "point.x # 2\n",
    "point.y # 25"
   ]
  },
  {
   "cell_type": "code",
   "execution_count": 43,
   "id": "a66898f5",
   "metadata": {},
   "outputs": [
    {
     "data": {
      "text/plain": [
       "0"
      ]
     },
     "execution_count": 43,
     "metadata": {},
     "output_type": "execute_result"
    }
   ],
   "source": [
    "class Point:\n",
    "    def __init__(self, x, y):\n",
    "        self.x = x\n",
    "        self.y = y\n",
    "        \n",
    "    @property\n",
    "    def x(self):\n",
    "        return self._x \n",
    "    \n",
    "    @x.setter \n",
    "    def x(self, value):\n",
    "        self._x = self.validate(value)\n",
    "        \n",
    "    @property\n",
    "    def y(self):\n",
    "        return self._y \n",
    "    \n",
    "    @y.setter \n",
    "    def y(self, value):\n",
    "        self._y = self.validate(value)\n",
    "        \n",
    "    def validate(self, value):\n",
    "        if not isinstance(value, int | float):\n",
    "            raise ValueError(\"coordinates must be numbers\")\n",
    "        return value\n",
    "    \n",
    "point = Point(2, 25)\n",
    "point.x # 2\n",
    "point.y # 25  \n",
    "point.x = 0\n",
    "point.x # 0\n",
    "# point.x = \"x-axis\" # You will get an ValueError"
   ]
  },
  {
   "cell_type": "code",
   "execution_count": 54,
   "id": "dace573a",
   "metadata": {},
   "outputs": [
    {
     "data": {
      "text/plain": [
       "0.09138395397176044"
      ]
     },
     "execution_count": 54,
     "metadata": {},
     "output_type": "execute_result"
    }
   ],
   "source": [
    "class Point:\n",
    "    def __init__(self, x, y):\n",
    "        self.x = x\n",
    "        self.y = y\n",
    "        \n",
    "    @classmethod\n",
    "    def from_polar(cls, distance, angle):\n",
    "        return cls(\n",
    "            x = distance * math.cos(math.radians(angle)),\n",
    "            y = distance * math.sin(math.radians(angle))\n",
    "        )\n",
    "        \n",
    "point2 = Point.from_polar(10, math.pi/6)   \n",
    "point2.x # 9.999582439930004\n",
    "point2.y # 0.09138395397176044"
   ]
  },
  {
   "cell_type": "code",
   "execution_count": null,
   "id": "2d3150cf",
   "metadata": {},
   "outputs": [
    {
     "data": {
      "text/plain": [
       "'$12,334.00'"
      ]
     },
     "execution_count": 62,
     "metadata": {},
     "output_type": "execute_result"
    }
   ],
   "source": [
    "class Formatter:\n",
    "    @staticmethod\n",
    "    def as_currency(value):\n",
    "        return f\"${value:,.2f}\"\n",
    "    \n",
    "    def as_percent(value):\n",
    "        return f\"{value:.2%}\"\n",
    "    \n",
    "# Operate on the class\n",
    "Formatter.as_currency(1234) # '$1,234.00'\n",
    "Formatter.as_percent(1.24589) # '124.59%'\n",
    "\n",
    "# Operate on an instance\n",
    "formatter = Formatter()\n",
    "formatter.as_currency(12334) # '$12,334.00'"
   ]
  },
  {
   "cell_type": "code",
   "execution_count": null,
   "id": "b63204f9",
   "metadata": {},
   "outputs": [],
   "source": []
  }
 ],
 "metadata": {
  "kernelspec": {
   "display_name": ".venv",
   "language": "python",
   "name": "python3"
  },
  "language_info": {
   "codemirror_mode": {
    "name": "ipython",
    "version": 3
   },
   "file_extension": ".py",
   "mimetype": "text/x-python",
   "name": "python",
   "nbconvert_exporter": "python",
   "pygments_lexer": "ipython3",
   "version": "3.13.7"
  }
 },
 "nbformat": 4,
 "nbformat_minor": 5
}
