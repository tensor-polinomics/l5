{
 "cells": [
  {
   "cell_type": "code",
   "execution_count": 8,
   "id": "a6771900",
   "metadata": {},
   "outputs": [
    {
     "data": {
      "text/plain": [
       "7"
      ]
     },
     "execution_count": 8,
     "metadata": {},
     "output_type": "execute_result"
    }
   ],
   "source": [
    "type Number = int | float\n",
    "\n",
    "def add(a: Number, b: Number) -> Number:\n",
    "    return a + b\n",
    "\n",
    "add(3, 4)"
   ]
  },
  {
   "cell_type": "code",
   "execution_count": 2,
   "id": "c3b38313",
   "metadata": {},
   "outputs": [
    {
     "data": {
      "text/plain": [
       "'01:01:20'"
      ]
     },
     "execution_count": 2,
     "metadata": {},
     "output_type": "execute_result"
    }
   ],
   "source": [
    "def hh_mm_ss(milliseconds):\n",
    "    seconds = round(milliseconds / 1000)\n",
    "    minutes, seconds = divmod(seconds, 60)\n",
    "    hours, minutes = divmod(minutes, 60)\n",
    "    return f\"{hours:02d}:{minutes:02d}:{seconds:02d}\"\n",
    "\n",
    "hh_mm_ss(3680000)"
   ]
  },
  {
   "cell_type": "code",
   "execution_count": 6,
   "id": "d7b9bb3b",
   "metadata": {},
   "outputs": [
    {
     "data": {
      "text/plain": [
       "'NA'"
      ]
     },
     "execution_count": 6,
     "metadata": {},
     "output_type": "execute_result"
    }
   ],
   "source": [
    "max([], default=\"NA\")"
   ]
  },
  {
   "cell_type": "code",
   "execution_count": 5,
   "id": "6c7532a7",
   "metadata": {},
   "outputs": [
    {
     "data": {
      "text/plain": [
       "-2"
      ]
     },
     "execution_count": 5,
     "metadata": {},
     "output_type": "execute_result"
    }
   ],
   "source": [
    "min([-2, 4, 5, -10], key=abs)"
   ]
  },
  {
   "cell_type": "code",
   "execution_count": 7,
   "id": "37f0a882",
   "metadata": {},
   "outputs": [
    {
     "data": {
      "text/plain": [
       "1200"
      ]
     },
     "execution_count": 7,
     "metadata": {},
     "output_type": "execute_result"
    }
   ],
   "source": [
    "round(1234, -2)"
   ]
  },
  {
   "cell_type": "code",
   "execution_count": 9,
   "id": "149950ed",
   "metadata": {},
   "outputs": [
    {
     "data": {
      "text/plain": [
       "-4"
      ]
     },
     "execution_count": 9,
     "metadata": {},
     "output_type": "execute_result"
    }
   ],
   "source": [
    "int(-4.9)"
   ]
  },
  {
   "cell_type": "code",
   "execution_count": 11,
   "id": "c5671746",
   "metadata": {},
   "outputs": [
    {
     "data": {
      "text/plain": [
       "'3.14'"
      ]
     },
     "execution_count": 11,
     "metadata": {},
     "output_type": "execute_result"
    }
   ],
   "source": [
    "float('3.14')\n",
    "str(3.14)"
   ]
  },
  {
   "cell_type": "code",
   "execution_count": 12,
   "id": "26a8ed22",
   "metadata": {},
   "outputs": [
    {
     "data": {
      "text/plain": [
       "\"{'A', 'C', 'B'}\""
      ]
     },
     "execution_count": 12,
     "metadata": {},
     "output_type": "execute_result"
    }
   ],
   "source": [
    "str({\"A\", \"B\", \"C\"})"
   ]
  },
  {
   "cell_type": "code",
   "execution_count": 13,
   "id": "d8b7fbe7",
   "metadata": {},
   "outputs": [
    {
     "data": {
      "text/plain": [
       "'1-2-3-4-5'"
      ]
     },
     "execution_count": 13,
     "metadata": {},
     "output_type": "execute_result"
    }
   ],
   "source": [
    "\"-\".join(str(value) for value in [1, 2, 3, 4, 5])"
   ]
  },
  {
   "cell_type": "code",
   "execution_count": 17,
   "id": "21ef14f3",
   "metadata": {},
   "outputs": [
    {
     "data": {
      "text/plain": [
       "'2025-09-13 13:53:03.913429'"
      ]
     },
     "execution_count": 17,
     "metadata": {},
     "output_type": "execute_result"
    }
   ],
   "source": [
    "import datetime\n",
    "today = datetime.datetime.now()\n",
    "\n",
    "repr(today)\n",
    "\n",
    "str(today)"
   ]
  },
  {
   "cell_type": "code",
   "execution_count": 21,
   "id": "06ba6180",
   "metadata": {},
   "outputs": [
    {
     "data": {
      "text/plain": [
       "True"
      ]
     },
     "execution_count": 21,
     "metadata": {},
     "output_type": "execute_result"
    }
   ],
   "source": [
    "class Stack:\n",
    "    def __init__(self, items=None):\n",
    "        self.items = list(items) if items is not None else []\n",
    "        \n",
    "    def push(self, item):\n",
    "        self.items.append(item)\n",
    "        \n",
    "    def pop(self):\n",
    "        return self.items.pop()\n",
    "    \n",
    "    def __bool__(self):\n",
    "        return bool(self.items)\n",
    "    \n",
    "stack = Stack()\n",
    "bool(stack)\n",
    "stack.push(42)\n",
    "bool(stack)"
   ]
  },
  {
   "cell_type": "code",
   "execution_count": 22,
   "id": "cdca6766",
   "metadata": {},
   "outputs": [
    {
     "data": {
      "text/plain": [
       "65"
      ]
     },
     "execution_count": 22,
     "metadata": {},
     "output_type": "execute_result"
    }
   ],
   "source": [
    "ord(\"A\")"
   ]
  },
  {
   "cell_type": "code",
   "execution_count": 23,
   "id": "e5ca1462",
   "metadata": {},
   "outputs": [
    {
     "data": {
      "text/plain": [
       "'A'"
      ]
     },
     "execution_count": 23,
     "metadata": {},
     "output_type": "execute_result"
    }
   ],
   "source": [
    "chr(65)"
   ]
  },
  {
   "cell_type": "code",
   "execution_count": null,
   "id": "2804edce",
   "metadata": {},
   "outputs": [
    {
     "data": {
      "text/plain": [
       "[('name', 'John'), ('age', 30), ('city', 'New York')]"
      ]
     },
     "execution_count": 34,
     "metadata": {},
     "output_type": "execute_result"
    }
   ],
   "source": [
    "# Empty list\n",
    "list()\n",
    "\n",
    "# String to list\n",
    "list(\"Hello\") # ['H', 'e', 'l', 'l', 'o']\n",
    "\n",
    "# Tuple to list\n",
    "list((1, 2, 3, 4)) # [1, 2, 3, 4]\n",
    "\n",
    "# set to list, order is lost: ['banana', 'apple', 'orange']\n",
    "list({\"apple\", \"orange\", \"banana\"}) \n",
    "\n",
    "# Dict to list 1 (keys only)\n",
    "my_dict = {\"name\": \"John\", \"age\": 30, \"city\": \"New York\"}\n",
    "list(my_dict) # ['name', 'age', 'city']\n",
    "\n",
    "# Method 2: .keys() (same as 1)\n",
    "list(my_dict.keys()) # ['name', 'age', 'city']\n",
    "\n",
    "# Method 3. .values()\n",
    "list(my_dict.values()) # ['John', 30, 'New York']\n",
    "\n",
    "# Method 4. list of key-value pair\n",
    "list(my_dict.items()) # [('name', 'John'), ('age', 30), ('city', 'New York')]"
   ]
  },
  {
   "cell_type": "code",
   "execution_count": 36,
   "id": "20e83f9c",
   "metadata": {},
   "outputs": [
    {
     "data": {
      "text/plain": [
       "('banana', 'apple', 'orange')"
      ]
     },
     "execution_count": 36,
     "metadata": {},
     "output_type": "execute_result"
    }
   ],
   "source": [
    "tuple({\"apple\", \"orange\", \"banana\"})"
   ]
  },
  {
   "cell_type": "code",
   "execution_count": null,
   "id": "a9a81143",
   "metadata": {},
   "outputs": [
    {
     "data": {
      "text/plain": [
       "{'name': 'Jane', 'age': 30, 'country': 'Canada'}"
      ]
     },
     "execution_count": 44,
     "metadata": {},
     "output_type": "execute_result"
    }
   ],
   "source": [
    "# Empty dict\n",
    "dict() # {}\n",
    "\n",
    "# Signature 1: {'name': 'Jane', 'age': '30', 'country': 'Canada'}\n",
    "jane = dict(name=\"Jane\", age=\"30\", country=\"Canada\")\n",
    "\n",
    "# Signature 2: {'name': 'Jane', 'age': '30', 'country': 'Canada', 'job': 'Python Dev'}\n",
    "jane = dict(jane, job=\"Python Dev\")\n",
    "\n",
    "# Signature 3: {'name': 'Jane', 'age': 30, 'country': 'Canada'}\n",
    "dict([(\"name\", \"Jane\"), (\"age\", 30), (\"country\", \"Canada\")])"
   ]
  },
  {
   "cell_type": "code",
   "execution_count": 45,
   "id": "ae5bc74c",
   "metadata": {},
   "outputs": [
    {
     "data": {
      "text/plain": [
       "set()"
      ]
     },
     "execution_count": 45,
     "metadata": {},
     "output_type": "execute_result"
    }
   ],
   "source": [
    "set({})"
   ]
  },
  {
   "cell_type": "code",
   "execution_count": 46,
   "id": "07cecd1e",
   "metadata": {},
   "outputs": [
    {
     "data": {
      "text/plain": [
       "set()"
      ]
     },
     "execution_count": 46,
     "metadata": {},
     "output_type": "execute_result"
    }
   ],
   "source": [
    "set()"
   ]
  },
  {
   "cell_type": "code",
   "execution_count": 47,
   "id": "ceb99937",
   "metadata": {},
   "outputs": [
    {
     "data": {
      "text/plain": [
       "2"
      ]
     },
     "execution_count": 47,
     "metadata": {},
     "output_type": "execute_result"
    }
   ],
   "source": [
    "len({\"green\", \"green\", \"red\"})"
   ]
  },
  {
   "cell_type": "code",
   "execution_count": null,
   "id": "c9dfa1f0",
   "metadata": {},
   "outputs": [
    {
     "data": {
      "text/plain": [
       "[5, 4, 3, 2, 1]"
      ]
     },
     "execution_count": 50,
     "metadata": {},
     "output_type": "execute_result"
    }
   ],
   "source": [
    "my_list = [1, 2, 3, 4, 5]\n",
    "reversed(my_list) # an iterator object: <list_reverseiterator at 0x209084e9810>\n",
    "list(reversed(my_list)) # a list: [5, 4, 3, 2, 1]"
   ]
  },
  {
   "cell_type": "code",
   "execution_count": null,
   "id": "b039be78",
   "metadata": {},
   "outputs": [
    {
     "data": {
      "text/plain": [
       "[5, 4, 3, 2, 1]"
      ]
     },
     "execution_count": 53,
     "metadata": {},
     "output_type": "execute_result"
    }
   ],
   "source": [
    "sorted(\"filter\") #['e', 'f', 'i', 'l', 'r', 't']\n",
    "sorted(my_list) # [1, 2, 3, 4, 5]\n",
    "sorted(my_list, reverse=True) # [5, 4, 3, 2, 1]"
   ]
  },
  {
   "cell_type": "code",
   "execution_count": null,
   "id": "da63e1c5",
   "metadata": {},
   "outputs": [
    {
     "data": {
      "text/plain": [
       "[(1, 2), (4, 0), (3, 5), (6, 7)]"
      ]
     },
     "execution_count": 60,
     "metadata": {},
     "output_type": "execute_result"
    }
   ],
   "source": [
    "points = [(1, 2), (3, 5), (4, 0), (6, 7)]\n",
    "sorted(points, key=lambda point: point[1]) # [(4, 0), (1, 2), (3, 5), (6, 7)]\n",
    "sorted(points, key=max) # [(1, 2), (4, 0), (3, 5), (6, 7)]"
   ]
  },
  {
   "cell_type": "code",
   "execution_count": null,
   "id": "47ec2f97",
   "metadata": {},
   "outputs": [
    {
     "data": {
      "text/plain": [
       "True"
      ]
     },
     "execution_count": 63,
     "metadata": {},
     "output_type": "execute_result"
    }
   ],
   "source": [
    "numbers = [10, 5, 6, 4, 7, 8, 18]\n",
    "all(0 <= x <= 10 for x in numbers) # False\n",
    "any(0 <= x <= 10 for x in numbers) # True"
   ]
  },
  {
   "cell_type": "code",
   "execution_count": 66,
   "id": "c5c01915",
   "metadata": {},
   "outputs": [
    {
     "name": "stdout",
     "output_type": "stream",
     "text": [
      "Beep\n",
      "Beep\n",
      "Beep\n"
     ]
    }
   ],
   "source": [
    "range(10) # range(0, 10)\n",
    "list(range(1, 10, 2)) # [1, 3, 5, 7, 9]\n",
    "\n",
    "for _ in range(3):\n",
    "    print(\"Beep\")"
   ]
  },
  {
   "cell_type": "code",
   "execution_count": 68,
   "id": "143bd37f",
   "metadata": {},
   "outputs": [
    {
     "name": "stdout",
     "output_type": "stream",
     "text": [
      "Main Menu:\n",
      "0. Open\n",
      "1. Save\n",
      "2. Settings\n",
      "3. Quit\n"
     ]
    }
   ],
   "source": [
    "def list_menu(options):\n",
    "    print(\"Main Menu:\")\n",
    "    for index, option in enumerate(options):\n",
    "        print(f\"{index}. {option}\")\n",
    "        \n",
    "list_menu([\"Open\", \"Save\", \"Settings\", \"Quit\"])"
   ]
  },
  {
   "cell_type": "code",
   "execution_count": null,
   "id": "71f88a7e",
   "metadata": {},
   "outputs": [
    {
     "data": {
      "text/plain": [
       "['b', 'f', 'x']"
      ]
     },
     "execution_count": 73,
     "metadata": {},
     "output_type": "execute_result"
    }
   ],
   "source": [
    "letters = [\"b\", \"g\", \"f\", \"h\", \"x\"]\n",
    "even_letters = letters[slice(1, None, 2)]\n",
    "even_letters # ['g', 'h']\n",
    "\n",
    "# Using slicing operator\n",
    "odd_letters = letters[::2]\n",
    "odd_letters # ['b', 'f', 'x']"
   ]
  },
  {
   "cell_type": "code",
   "execution_count": 1,
   "id": "112232b5",
   "metadata": {},
   "outputs": [
    {
     "name": "stdout",
     "output_type": "stream",
     "text": [
      "('a', 1, '*')\n",
      "('b', 2, '/')\n",
      "('c', 3, '&')\n"
     ]
    }
   ],
   "source": [
    "letters = [\"a\", \"b\", \"c\", \"d\"]\n",
    "numbers = [1, 2, 3]\n",
    "operators = [\"*\", \"/\", \"&\"]\n",
    "\n",
    "for characters in zip(letters, numbers, operators):\n",
    "    print(characters)"
   ]
  },
  {
   "cell_type": "code",
   "execution_count": 3,
   "id": "b2843e0a",
   "metadata": {},
   "outputs": [
    {
     "name": "stdout",
     "output_type": "stream",
     "text": [
      "letter a and number 1, using operator *\n",
      "letter b and number 2, using operator /\n",
      "letter c and number 3, using operator &\n"
     ]
    }
   ],
   "source": [
    "for l, n, o in zip(letters, numbers, operators):\n",
    "    print(f\"letter {l} and number {n}, using operator {o}\")"
   ]
  },
  {
   "cell_type": "code",
   "execution_count": 4,
   "id": "de6f3cf9",
   "metadata": {},
   "outputs": [
    {
     "data": {
      "text/plain": [
       "{'a': 1, 'b': 2, 'c': 3}"
      ]
     },
     "execution_count": 4,
     "metadata": {},
     "output_type": "execute_result"
    }
   ],
   "source": [
    "dict(zip(letters, numbers))"
   ]
  },
  {
   "cell_type": "code",
   "execution_count": null,
   "id": "2c2ba85a",
   "metadata": {},
   "outputs": [
    {
     "ename": "StopIteration",
     "evalue": "",
     "output_type": "error",
     "traceback": [
      "\u001b[31m---------------------------------------------------------------------------\u001b[39m",
      "\u001b[31mStopIteration\u001b[39m                             Traceback (most recent call last)",
      "\u001b[36mCell\u001b[39m\u001b[36m \u001b[39m\u001b[32mIn[9]\u001b[39m\u001b[32m, line 7\u001b[39m\n\u001b[32m      5\u001b[39m \u001b[38;5;28mnext\u001b[39m(colors_it)\n\u001b[32m      6\u001b[39m \u001b[38;5;28mnext\u001b[39m(colors_it)\n\u001b[32m----> \u001b[39m\u001b[32m7\u001b[39m \u001b[38;5;28;43mnext\u001b[39;49m\u001b[43m(\u001b[49m\u001b[43mcolors_it\u001b[49m\u001b[43m)\u001b[49m\n",
      "\u001b[31mStopIteration\u001b[39m: "
     ]
    }
   ],
   "source": [
    "colors = [\"red\", \"green\", \"black\"]\n",
    "colors_it = iter(colors)\n",
    "colors_it # <list_iterator at 0x2410019a5c0>\n",
    "next(colors_it) # 'red'\n",
    "next(colors_it) # 'green'\n",
    "next(colors_it) # 'black'\n",
    "next(colors_it) # StopIteration exception"
   ]
  },
  {
   "cell_type": "code",
   "execution_count": 10,
   "id": "6bbfc3e3",
   "metadata": {},
   "outputs": [],
   "source": [
    "def read_user_input():\n",
    "    print(\"Enter your command (type 'done' to quit)\")\n",
    "    for word in iter(input, 'done'):\n",
    "        print(f\"Processing: '{word}'\")"
   ]
  },
  {
   "cell_type": "code",
   "execution_count": 11,
   "id": "2c4e365c",
   "metadata": {},
   "outputs": [
    {
     "data": {
      "text/plain": [
       "[6, 24]"
      ]
     },
     "execution_count": 11,
     "metadata": {},
     "output_type": "execute_result"
    }
   ],
   "source": [
    "numbers = [1, 4, 6, 10, 24, 14]\n",
    "list(filter(lambda n: n % 3 ==0, numbers))"
   ]
  },
  {
   "cell_type": "code",
   "execution_count": null,
   "id": "e946be0c",
   "metadata": {},
   "outputs": [
    {
     "data": {
      "text/plain": [
       "[1, 25, 81]"
      ]
     },
     "execution_count": 13,
     "metadata": {},
     "output_type": "execute_result"
    }
   ],
   "source": [
    "bases = [1, 5, 3]\n",
    "exponents = [3, 2, 4]\n",
    "map(pow, bases, exponents) # <map at 0x241003d7dc0>\n",
    "list(map(pow, bases, exponents)) # [1, 25, 81]"
   ]
  },
  {
   "cell_type": "code",
   "execution_count": 16,
   "id": "481af933",
   "metadata": {},
   "outputs": [
    {
     "name": "stdout",
     "output_type": "stream",
     "text": [
      "apple\n",
      "banana\n",
      "cherry\n",
      "orange\n",
      "mango\n"
     ]
    }
   ],
   "source": [
    "with open(\"fruits.txt\") as file:\n",
    "    print(file.read())"
   ]
  },
  {
   "cell_type": "code",
   "execution_count": 17,
   "id": "24deb408",
   "metadata": {},
   "outputs": [],
   "source": [
    "with open(\"hello.txt\", \"w\") as file:\n",
    "    file.write(\"Hello Python Functions!\")"
   ]
  },
  {
   "cell_type": "code",
   "execution_count": 18,
   "id": "9b320f4c",
   "metadata": {},
   "outputs": [],
   "source": [
    "with open(\"hello2.txt\", \"w\", encoding=\"utf-8\") as file:\n",
    "    file.write(\"Hello, Pythonista!\")"
   ]
  },
  {
   "cell_type": "code",
   "execution_count": 19,
   "id": "6f7087c0",
   "metadata": {},
   "outputs": [
    {
     "name": "stdout",
     "output_type": "stream",
     "text": [
      "Hello***Pythonista!\n"
     ]
    }
   ],
   "source": [
    "print(\"Hello\", \"Pythonista!\", sep=\"***\")"
   ]
  },
  {
   "cell_type": "code",
   "execution_count": 23,
   "id": "ff158b0d",
   "metadata": {},
   "outputs": [],
   "source": [
    "with open(\"hello3.txt\", mode=\"w\") as file:\n",
    "    print(\"Hello Pythonista!\", file=file)"
   ]
  },
  {
   "cell_type": "code",
   "execution_count": 27,
   "id": "25eced10",
   "metadata": {},
   "outputs": [
    {
     "name": "stdout",
     "output_type": "stream",
     "text": [
      "[                              ] 0%"
     ]
    },
    {
     "name": "stdout",
     "output_type": "stream",
     "text": [
      "[******************************] 100%*******                      ] 27%*********************         ] 72%***************************   ] 91%\n"
     ]
    }
   ],
   "source": [
    "from time import sleep\n",
    "from progress import progress\n",
    "\n",
    "for percent in range(101):\n",
    "    sleep(0.01)\n",
    "    progress(percent)"
   ]
  },
  {
   "cell_type": "code",
   "execution_count": null,
   "id": "6fe38c6c",
   "metadata": {},
   "outputs": [
    {
     "data": {
      "text/plain": [
       "'Sun Sep 14, 2025'"
      ]
     },
     "execution_count": 34,
     "metadata": {},
     "output_type": "execute_result"
    }
   ],
   "source": [
    "import math\n",
    "from datetime import datetime\n",
    "\n",
    "format(math.pi, \".4f\") # 4 decimal places: '3.1416'\n",
    "format(math.pi, \"e\") # scientific notation: '3.141593e+00'\n",
    "format(1234567, \",.2f\") # thousand separators: '1,234,567.00'\n",
    "format(\"Header\", \"=^30\") # Centered and filled: '============Header============'\n",
    "format(datetime.now(), \"%a %b %d, %Y\") # 'Sun Sep 14, 2025'"
   ]
  },
  {
   "cell_type": "code",
   "execution_count": 37,
   "id": "941aea1d",
   "metadata": {},
   "outputs": [
    {
     "data": {
      "text/plain": [
       "25"
      ]
     },
     "execution_count": 37,
     "metadata": {},
     "output_type": "execute_result"
    }
   ],
   "source": [
    "class Point:\n",
    "    def __init__(self, x, y):\n",
    "        self.x = x\n",
    "        self.y = y\n",
    "\n",
    "point = Point(2, 25)\n",
    "point.x # 2\n",
    "point.y # 25"
   ]
  },
  {
   "cell_type": "code",
   "execution_count": 43,
   "id": "a66898f5",
   "metadata": {},
   "outputs": [
    {
     "data": {
      "text/plain": [
       "0"
      ]
     },
     "execution_count": 43,
     "metadata": {},
     "output_type": "execute_result"
    }
   ],
   "source": [
    "class Point:\n",
    "    def __init__(self, x, y):\n",
    "        self.x = x\n",
    "        self.y = y\n",
    "        \n",
    "    @property\n",
    "    def x(self):\n",
    "        return self._x \n",
    "    \n",
    "    @x.setter \n",
    "    def x(self, value):\n",
    "        self._x = self.validate(value)\n",
    "        \n",
    "    @property\n",
    "    def y(self):\n",
    "        return self._y \n",
    "    \n",
    "    @y.setter \n",
    "    def y(self, value):\n",
    "        self._y = self.validate(value)\n",
    "        \n",
    "    def validate(self, value):\n",
    "        if not isinstance(value, int | float):\n",
    "            raise ValueError(\"coordinates must be numbers\")\n",
    "        return value\n",
    "    \n",
    "point = Point(2, 25)\n",
    "point.x # 2\n",
    "point.y # 25  \n",
    "point.x = 0\n",
    "point.x # 0\n",
    "# point.x = \"x-axis\" # You will get an ValueError"
   ]
  },
  {
   "cell_type": "code",
   "execution_count": 54,
   "id": "dace573a",
   "metadata": {},
   "outputs": [
    {
     "data": {
      "text/plain": [
       "0.09138395397176044"
      ]
     },
     "execution_count": 54,
     "metadata": {},
     "output_type": "execute_result"
    }
   ],
   "source": [
    "class Point:\n",
    "    def __init__(self, x, y):\n",
    "        self.x = x\n",
    "        self.y = y\n",
    "        \n",
    "    @classmethod\n",
    "    def from_polar(cls, distance, angle):\n",
    "        return cls(\n",
    "            x = distance * math.cos(math.radians(angle)),\n",
    "            y = distance * math.sin(math.radians(angle))\n",
    "        )\n",
    "        \n",
    "point2 = Point.from_polar(10, math.pi/6)   \n",
    "point2.x # 9.999582439930004\n",
    "point2.y # 0.09138395397176044"
   ]
  },
  {
   "cell_type": "code",
   "execution_count": 63,
   "id": "2d3150cf",
   "metadata": {},
   "outputs": [
    {
     "data": {
      "text/plain": [
       "'$12,334.00'"
      ]
     },
     "execution_count": 63,
     "metadata": {},
     "output_type": "execute_result"
    }
   ],
   "source": [
    "class Formatter:\n",
    "    @staticmethod\n",
    "    def as_currency(value):\n",
    "        return f\"${value:,.2f}\"\n",
    "    \n",
    "    @staticmethod\n",
    "    def as_percent(value):\n",
    "        return f\"{value:.2%}\"\n",
    "    \n",
    "# Operate on the class\n",
    "Formatter.as_currency(1234) # '$1,234.00'\n",
    "Formatter.as_percent(1.24589) # '124.59%'\n",
    "\n",
    "# Operate on an instance\n",
    "formatter = Formatter()\n",
    "formatter.as_currency(12334) # '$12,334.00'"
   ]
  },
  {
   "cell_type": "code",
   "execution_count": 3,
   "id": "b63204f9",
   "metadata": {},
   "outputs": [
    {
     "name": "stdout",
     "output_type": "stream",
     "text": [
      "Hello Git\n",
      "More Git commands please\n"
     ]
    }
   ],
   "source": [
    "print(\"Hello Git\")\n",
    "print(\"More Git commands please\")"
   ]
  },
  {
   "cell_type": "code",
   "execution_count": null,
   "id": "77886b07",
   "metadata": {},
   "outputs": [
    {
     "ename": "AttributeError",
     "evalue": "'Person' object has no attribute 'age'",
     "output_type": "error",
     "traceback": [
      "\u001b[31m---------------------------------------------------------------------------\u001b[39m",
      "\u001b[31mAttributeError\u001b[39m                            Traceback (most recent call last)",
      "\u001b[36mCell\u001b[39m\u001b[36m \u001b[39m\u001b[32mIn[13]\u001b[39m\u001b[32m, line 12\u001b[39m\n\u001b[32m     10\u001b[39m \u001b[38;5;28mgetattr\u001b[39m(jane, \u001b[33m\"\u001b[39m\u001b[33mage\u001b[39m\u001b[33m\"\u001b[39m) \u001b[38;5;66;03m# 26\u001b[39;00m\n\u001b[32m     11\u001b[39m \u001b[38;5;28mdelattr\u001b[39m(jane, \u001b[33m\"\u001b[39m\u001b[33mage\u001b[39m\u001b[33m\"\u001b[39m)\n\u001b[32m---> \u001b[39m\u001b[32m12\u001b[39m \u001b[38;5;28;43mgetattr\u001b[39;49m\u001b[43m(\u001b[49m\u001b[43mjane\u001b[49m\u001b[43m,\u001b[49m\u001b[43m \u001b[49m\u001b[33;43m\"\u001b[39;49m\u001b[33;43mage\u001b[39;49m\u001b[33;43m\"\u001b[39;49m\u001b[43m)\u001b[49m \u001b[38;5;66;03m# AttributeError\u001b[39;00m\n",
      "\u001b[31mAttributeError\u001b[39m: 'Person' object has no attribute 'age'"
     ]
    }
   ],
   "source": [
    "class Person:\n",
    "    def __init__(self, name, age):\n",
    "        self.name = name\n",
    "        self.age = age\n",
    "        \n",
    "jane = Person(\"Jane\", 25)\n",
    "\n",
    "getattr(jane, \"age\") # 25\n",
    "setattr(jane, \"age\", 26)\n",
    "getattr(jane, \"age\") # 26\n",
    "delattr(jane, \"age\")\n",
    "# getattr(jane, \"age\") # AttributeError"
   ]
  },
  {
   "cell_type": "code",
   "execution_count": 3,
   "id": "cfe18415",
   "metadata": {},
   "outputs": [
    {
     "data": {
      "text/plain": [
       "[{'product': 'Laptop', 'price': '1200', 'sold_units': '30'},\n",
       " {'product': 'Phone', 'price': '700', 'sold_units': '50'},\n",
       " {'product': 'Tablet', 'price': '450', 'sold_units': '100'},\n",
       " {'product': 'Desktop', 'price': '1000', 'sold_units': '20'},\n",
       " {'product': 'Monitor', 'price': '300', 'sold_units': '50'}]"
      ]
     },
     "execution_count": 3,
     "metadata": {},
     "output_type": "execute_result"
    }
   ],
   "source": [
    "from processors import FileProcessor\n",
    "from processors import CSVProcessor\n",
    "\n",
    "file_proc = FileProcessor(\"products.csv\", CSVProcessor)\n",
    "file_proc.read()"
   ]
  },
  {
   "cell_type": "code",
   "execution_count": null,
   "id": "42e5470b",
   "metadata": {},
   "outputs": [
    {
     "data": {
      "text/plain": [
       "processors.FileProcessor"
      ]
     },
     "execution_count": 6,
     "metadata": {},
     "output_type": "execute_result"
    }
   ],
   "source": [
    "type(42) # int\n",
    "type(file_proc) # processors.FileProcessor (defined earlier)"
   ]
  },
  {
   "cell_type": "code",
   "execution_count": 10,
   "id": "abdbe8db",
   "metadata": {},
   "outputs": [],
   "source": [
    "def create_class(name, custom_members):\n",
    "    \"\"\"\n",
    "    Args:\n",
    "        name (string): a valid class name\n",
    "        custom_members (dict): a dictionary of attributes and methods\n",
    "    \"\"\"\n",
    "    # class initializer\n",
    "    def __init__(self, **kwargs):\n",
    "        self.__dict__.update(kwargs)\n",
    "    \n",
    "    # string representation\n",
    "    def __repr__(self):\n",
    "        return f\"{name}({self.__dict__})\"\n",
    "    \n",
    "    # a dictionary that includes the attributes/methods\n",
    "    class_members = {\n",
    "        \"__init__\": __init__,\n",
    "        \"repr__\": __repr__,\n",
    "    }\n",
    "    class_members.update(custom_members)\n",
    "    \n",
    "    # KEY component: generate the class with the provided name/attribute/method\n",
    "    return type(name, (), class_members)"
   ]
  },
  {
   "cell_type": "code",
   "execution_count": null,
   "id": "f7ea9dd7",
   "metadata": {},
   "outputs": [
    {
     "data": {
      "text/plain": [
       "200.0"
      ]
     },
     "execution_count": 14,
     "metadata": {},
     "output_type": "execute_result"
    }
   ],
   "source": [
    "User = create_class(\"User\", {\"name\": \"\", \"age\": 0, \"email\": \"\"})\n",
    "Product = create_class(\n",
    "    \"Product\",{\n",
    "        \"name\": \"\",\n",
    "        \"price\": 0.0,\n",
    "        \"units\": 0\n",
    "    }\n",
    ")\n",
    "\n",
    "john = User(name=\"John\", age=30, email=\"john@example.com\")\n",
    "john.email # 'john@example.com'\n",
    "\n",
    "table = Product(name=\"Table\", price=200.0, units=5)\n",
    "table.price # 200.0\n"
   ]
  },
  {
   "cell_type": "code",
   "execution_count": null,
   "id": "757eb2b1",
   "metadata": {},
   "outputs": [
    {
     "data": {
      "text/plain": [
       "True"
      ]
     },
     "execution_count": 19,
     "metadata": {},
     "output_type": "execute_result"
    }
   ],
   "source": [
    "isinstance(42, int) # True\n",
    "isinstance(42, (int, float)) # check again a tuple: True\n",
    "isinstance(42, int | str) # True"
   ]
  },
  {
   "cell_type": "code",
   "execution_count": null,
   "id": "cbbee1d8",
   "metadata": {},
   "outputs": [
    {
     "data": {
      "text/plain": [
       "False"
      ]
     },
     "execution_count": 21,
     "metadata": {},
     "output_type": "execute_result"
    }
   ],
   "source": [
    "issubclass(bool, int) # True\n",
    "issubclass(int, float) # False"
   ]
  },
  {
   "cell_type": "code",
   "execution_count": null,
   "id": "461dbb30",
   "metadata": {},
   "outputs": [
    {
     "data": {
      "text/plain": [
       "False"
      ]
     },
     "execution_count": 24,
     "metadata": {},
     "output_type": "execute_result"
    }
   ],
   "source": [
    "callable(abs) # True\n",
    "callable(int) # True\n",
    "callable(True) # False"
   ]
  },
  {
   "cell_type": "code",
   "execution_count": 33,
   "id": "c3b8089d",
   "metadata": {},
   "outputs": [],
   "source": [
    "class CommandProcessor:\n",
    "    def __init__(self):\n",
    "        # constructor\n",
    "        self.commands = {}\n",
    "        # initialize an empty dict to hold command name -> callable\n",
    "        \n",
    "    def register_command(self, command):\n",
    "        if not callable(command):\n",
    "            raise ValueError(\"command is not callable\")\n",
    "        self.commands[command.__name__] = command\n",
    "        \n",
    "    def execute_command(self, name, *args, **kwargs):\n",
    "        if (command := self.commands.get(name)) is None:\n",
    "            raise ValueError(f\"command '{name}' not found\")\n",
    "        return command(*args, **kwargs)"
   ]
  },
  {
   "cell_type": "code",
   "execution_count": null,
   "id": "6d58fd4d",
   "metadata": {},
   "outputs": [
    {
     "ename": "ValueError",
     "evalue": "command 'subtract' not found",
     "output_type": "error",
     "traceback": [
      "\u001b[31m---------------------------------------------------------------------------\u001b[39m",
      "\u001b[31mValueError\u001b[39m                                Traceback (most recent call last)",
      "\u001b[36mCell\u001b[39m\u001b[36m \u001b[39m\u001b[32mIn[35]\u001b[39m\u001b[32m, line 8\u001b[39m\n\u001b[32m      6\u001b[39m command_processor.register_command(add)\n\u001b[32m      7\u001b[39m command_processor.execute_command(\u001b[33m\"\u001b[39m\u001b[33madd\u001b[39m\u001b[33m\"\u001b[39m, \u001b[32m1\u001b[39m, \u001b[32m2\u001b[39m) \u001b[38;5;66;03m# 3\u001b[39;00m\n\u001b[32m----> \u001b[39m\u001b[32m8\u001b[39m \u001b[43mcommand_processor\u001b[49m\u001b[43m.\u001b[49m\u001b[43mexecute_command\u001b[49m\u001b[43m(\u001b[49m\u001b[33;43m\"\u001b[39;49m\u001b[33;43msubtract\u001b[39;49m\u001b[33;43m\"\u001b[39;49m\u001b[43m,\u001b[49m\u001b[43m \u001b[49m\u001b[32;43m1\u001b[39;49m\u001b[43m,\u001b[49m\u001b[43m \u001b[49m\u001b[32;43m2\u001b[39;49m\u001b[43m)\u001b[49m\n",
      "\u001b[36mCell\u001b[39m\u001b[36m \u001b[39m\u001b[32mIn[33]\u001b[39m\u001b[32m, line 14\u001b[39m, in \u001b[36mCommandProcessor.execute_command\u001b[39m\u001b[34m(self, name, *args, **kwargs)\u001b[39m\n\u001b[32m     12\u001b[39m \u001b[38;5;28;01mdef\u001b[39;00m\u001b[38;5;250m \u001b[39m\u001b[34mexecute_command\u001b[39m(\u001b[38;5;28mself\u001b[39m, name, *args, **kwargs):\n\u001b[32m     13\u001b[39m     \u001b[38;5;28;01mif\u001b[39;00m (command := \u001b[38;5;28mself\u001b[39m.commands.get(name)) \u001b[38;5;129;01mis\u001b[39;00m \u001b[38;5;28;01mNone\u001b[39;00m:\n\u001b[32m---> \u001b[39m\u001b[32m14\u001b[39m         \u001b[38;5;28;01mraise\u001b[39;00m \u001b[38;5;167;01mValueError\u001b[39;00m(\u001b[33mf\u001b[39m\u001b[33m\"\u001b[39m\u001b[33mcommand \u001b[39m\u001b[33m'\u001b[39m\u001b[38;5;132;01m{\u001b[39;00mname\u001b[38;5;132;01m}\u001b[39;00m\u001b[33m'\u001b[39m\u001b[33m not found\u001b[39m\u001b[33m\"\u001b[39m)\n\u001b[32m     15\u001b[39m     \u001b[38;5;28;01mreturn\u001b[39;00m command(*args, **kwargs)\n",
      "\u001b[31mValueError\u001b[39m: command 'subtract' not found"
     ]
    }
   ],
   "source": [
    "command_processor = CommandProcessor()\n",
    "\n",
    "def add(a, b):\n",
    "    return a + b\n",
    "\n",
    "command_processor.register_command(add)\n",
    "command_processor.execute_command(\"add\", 1, 2) # 3\n",
    "# command_processor.execute_command(\"subtract\", 1, 2) # ValueError"
   ]
  },
  {
   "cell_type": "code",
   "execution_count": 36,
   "id": "994086af",
   "metadata": {},
   "outputs": [],
   "source": [
    "class Rectangle:\n",
    "    def __init__(self, length, width):\n",
    "        self.length = length\n",
    "        self.width = width\n",
    "    \n",
    "    def area(self):\n",
    "        return self.length * self.width\n",
    "    \n",
    "    def perimeter(self):\n",
    "        return 2 * (self.length + self.width)\n",
    "    \n",
    "class Square(Rectangle):\n",
    "    def __init__(self, side):\n",
    "        super().__init__(side, side)"
   ]
  },
  {
   "cell_type": "code",
   "execution_count": 37,
   "id": "6f07f675",
   "metadata": {},
   "outputs": [
    {
     "data": {
      "text/plain": [
       "True"
      ]
     },
     "execution_count": 37,
     "metadata": {},
     "output_type": "execute_result"
    }
   ],
   "source": [
    "issubclass(int, object)"
   ]
  },
  {
   "cell_type": "code",
   "execution_count": 38,
   "id": "d204a039",
   "metadata": {},
   "outputs": [
    {
     "data": {
      "text/plain": [
       "True"
      ]
     },
     "execution_count": 38,
     "metadata": {},
     "output_type": "execute_result"
    }
   ],
   "source": [
    "class DemoClass:\n",
    "    pass\n",
    "\n",
    "issubclass(DemoClass, object)"
   ]
  },
  {
   "cell_type": "code",
   "execution_count": null,
   "id": "7c3f99fe",
   "metadata": {},
   "outputs": [
    {
     "ename": "AttributeError",
     "evalue": "'object' object has no attribute 'attr' and no __dict__ for setting new attributes",
     "output_type": "error",
     "traceback": [
      "\u001b[31m---------------------------------------------------------------------------\u001b[39m",
      "\u001b[31mAttributeError\u001b[39m                            Traceback (most recent call last)",
      "\u001b[36mCell\u001b[39m\u001b[36m \u001b[39m\u001b[32mIn[40]\u001b[39m\u001b[32m, line 3\u001b[39m\n\u001b[32m      1\u001b[39m obj = \u001b[38;5;28mobject\u001b[39m()\n\u001b[32m      2\u001b[39m \u001b[38;5;28mdir\u001b[39m(obj)\n\u001b[32m----> \u001b[39m\u001b[32m3\u001b[39m \u001b[43mobj\u001b[49m\u001b[43m.\u001b[49m\u001b[43mattr\u001b[49m = \u001b[33m\"\u001b[39m\u001b[33mSome Value\u001b[39m\u001b[33m\"\u001b[39m\n",
      "\u001b[31mAttributeError\u001b[39m: 'object' object has no attribute 'attr' and no __dict__ for setting new attributes"
     ]
    }
   ],
   "source": [
    "obj = object()\n",
    "dir(obj)\n",
    "# obj.attr = \"Some Value\" # AttributeError"
   ]
  },
  {
   "cell_type": "code",
   "execution_count": 41,
   "id": "cd52610a",
   "metadata": {},
   "outputs": [],
   "source": [
    "from time import sleep\n",
    "\n",
    "SENTINEL = object()\n",
    "\n",
    "class Circle:\n",
    "    def __init__(self, radius):\n",
    "        self.radius = radius\n",
    "        self._diameter = SENTINEL\n",
    "        \n",
    "    @property\n",
    "    def diamter(self):\n",
    "        if self._diameter is SENTINEL:\n",
    "            sleep(0.5) # simulate a costly computation\n",
    "            self._diamter = self.radius * 2\n",
    "        return self._diameter"
   ]
  },
  {
   "cell_type": "code",
   "execution_count": 42,
   "id": "fdefc194",
   "metadata": {},
   "outputs": [
    {
     "name": "stdout",
     "output_type": "stream",
     "text": [
      "{'a': 2, 'b': 3, 'result': 5}\n"
     ]
    },
    {
     "data": {
      "text/plain": [
       "5"
      ]
     },
     "execution_count": 42,
     "metadata": {},
     "output_type": "execute_result"
    }
   ],
   "source": [
    "def add(a, b):\n",
    "    result = a + b\n",
    "    print(locals())\n",
    "    return result\n",
    "\n",
    "add(2, 3)"
   ]
  },
  {
   "cell_type": "code",
   "execution_count": 43,
   "id": "3deb3ac4",
   "metadata": {},
   "outputs": [
    {
     "data": {
      "text/plain": [
       "{'__name__': '__main__',\n",
       " '__doc__': '\\nNote: all executions are function-scoped as we do not assume the code below executes in an isolated kernel environment.\\n',\n",
       " '__package__': None,\n",
       " '__loader__': None,\n",
       " '__spec__': None,\n",
       " '__builtin__': <module 'builtins' (built-in)>,\n",
       " '__builtins__': <module 'builtins' (built-in)>,\n",
       " '_ih': ['',\n",
       "  'type(42)\\ntype',\n",
       "  'type(42)\\ntype(file_proc)',\n",
       "  'from processors import FileProcessor\\nfrom processors import CSVProcessor\\n\\nfile_proc = FileProcessor(\"products.csv\", CSVProcessor)\\nfile_proc.read()',\n",
       "  'type(42)\\ntype(file_proc)',\n",
       "  'type(42)\\n#type(file_proc)',\n",
       "  'type(42) # int\\ntype(file_proc)',\n",
       "  'def create_class(name, custom_members):\\n    \"\"\"\\n    Args:\\n        name (string): a valid class name\\n        custom_members (dict): a dictionary of attributes and methods\\n    \"\"\"\\n    def __init__(self, **kwargs):\\n        self.__dict__.update(kwargs)\\n\\n    def __repr__(self):\\n        return f\"{name}({self.__dict__})\"\\n\\n    class_members = {\\n        \"__init__\": __init__,\\n        \"repr__\": __repr__,\\n    }\\n    class_members.update(custorm_members)\\n\\n    return type(name, (), class_members)',\n",
       "  'def create_class(name, custom_members):\\n    \"\"\"\\n    Args:\\n        name (string): a valid class name\\n        custom_members (dict): a dictionary of attributes and methods\\n    \"\"\"\\n    # class initializer\\n    def __init__(self, **kwargs):\\n        self.__dict__.update(kwargs)\\n\\n    # string representation\\n    def __repr__(self):\\n        return f\"{name}({self.__dict__})\"\\n\\n    # a dictionary that includes the attributes/methods\\n    class_members = {\\n        \"__init__\": __init__,\\n        \"repr__\": __repr__,\\n    }\\n    class_members.update(custorm_members)\\n\\n    # KEY component: generate the class with the provided name/attribute/method\\n    return type(name, (), class_members)',\n",
       "  'user = create_class(\"User\", {\"name\": \"\", \"age\": 0, \"email\": \"\"})',\n",
       "  'def create_class(name, custom_members):\\n    \"\"\"\\n    Args:\\n        name (string): a valid class name\\n        custom_members (dict): a dictionary of attributes and methods\\n    \"\"\"\\n    # class initializer\\n    def __init__(self, **kwargs):\\n        self.__dict__.update(kwargs)\\n\\n    # string representation\\n    def __repr__(self):\\n        return f\"{name}({self.__dict__})\"\\n\\n    # a dictionary that includes the attributes/methods\\n    class_members = {\\n        \"__init__\": __init__,\\n        \"repr__\": __repr__,\\n    }\\n    class_members.update(custom_members)\\n\\n    # KEY component: generate the class with the provided name/attribute/method\\n    return type(name, (), class_members)',\n",
       "  'user = create_class(\"User\", {\"name\": \"\", \"age\": 0, \"email\": \"\"})',\n",
       "  'User = create_class(\"User\", {\"name\": \"\", \"age\": 0, \"email\": \"\"})',\n",
       "  'User = create_class(\"User\", {\"name\": \"\", \"age\": 0, \"email\": \"\"})\\nProduct = create_class(\\n    \"Product\",{\\n        \"name\": \"\",\\n        \"price\": 0.0,\\n        \"units\": 0\\n    }\\n)\\n\\njohn = User(name=\"John\", age=30, email=\"john@example.com\")\\njohn.email',\n",
       "  'User = create_class(\"User\", {\"name\": \"\", \"age\": 0, \"email\": \"\"})\\nProduct = create_class(\\n    \"Product\",{\\n        \"name\": \"\",\\n        \"price\": 0.0,\\n        \"units\": 0\\n    }\\n)\\n\\njohn = User(name=\"John\", age=30, email=\"john@example.com\")\\njohn.email # \\'john@example.com\\'\\n\\ntable = Product(name=\"Table\", price=200.0, units=5)\\ntable.price',\n",
       "  'isinstance(42, int)',\n",
       "  'isinstance(42, float)',\n",
       "  'isinstance(42, int)\\nisinstance(42, (int, float))',\n",
       "  'isinstance(42, int) # True\\nisinstance(42, (int, float)) # check again a tuple: True\\nisinstance(42, int | string)',\n",
       "  'isinstance(42, int) # True\\nisinstance(42, (int, float)) # check again a tuple: True\\nisinstance(42, int | str)',\n",
       "  'issubclass(bool, int)',\n",
       "  'issubclass(bool, int) # True\\nissubclass(int, float)',\n",
       "  'callable(abs)',\n",
       "  'callable(abs) # True\\ncallable(int)',\n",
       "  'callable(abs) # True\\ncallable(int) # True\\ncallable(True)',\n",
       "  'my_dict',\n",
       "  'my_dict= dict(\"name\"=\"John\")',\n",
       "  'my_dict = {\"name\": \"John\"}',\n",
       "  'my_dict = {\"name\": \"John\"}\\nmy_dict[\"age\"] = 30',\n",
       "  'my_dict = {\"name\": \"John\"}\\nmy_dict[\"age\"] = 30\\nmy_dict',\n",
       "  'class CommandProcessor:\\n    def __init__(self):\\n        # constructor\\n        self.commands = {}\\n        # initialize an empty dict to hold command name -> callable\\n\\n    def register_command(self, command):\\n        if not callable(command):\\n            raise ValueError(\"command is not callable\")\\n        self.commands[command.__name__] = command\\n\\n    def execute_command(self, name, *args, **kwards):\\n        if (command := self.commands.get(name)) is None:\\n            raise ValueError(f\"command \\'{name}\\' not found\")\\n        return command(*args, **kwargs)',\n",
       "  'command_processor = CommandProcessor()\\n\\ndef add(a, b):\\n    return a + b\\n\\ncommand_processor.register_command(add)\\ncommand_processor',\n",
       "  'command_processor = CommandProcessor()\\n\\ndef add(a, b):\\n    return a + b\\n\\ncommand_processor.register_command(add)\\ncommand_processor.execute_command(\"add\", 1, 2)',\n",
       "  'class CommandProcessor:\\n    def __init__(self):\\n        # constructor\\n        self.commands = {}\\n        # initialize an empty dict to hold command name -> callable\\n\\n    def register_command(self, command):\\n        if not callable(command):\\n            raise ValueError(\"command is not callable\")\\n        self.commands[command.__name__] = command\\n\\n    def execute_command(self, name, *args, **kwargs):\\n        if (command := self.commands.get(name)) is None:\\n            raise ValueError(f\"command \\'{name}\\' not found\")\\n        return command(*args, **kwargs)',\n",
       "  'command_processor = CommandProcessor()\\n\\ndef add(a, b):\\n    return a + b\\n\\ncommand_processor.register_command(add)\\ncommand_processor.execute_command(\"add\", 1, 2)',\n",
       "  'command_processor = CommandProcessor()\\n\\ndef add(a, b):\\n    return a + b\\n\\ncommand_processor.register_command(add)\\ncommand_processor.execute_command(\"add\", 1, 2) # 3\\ncommand_processor.execute_command(\"subtract\", 1, 2)',\n",
       "  'class Rectangle:\\n    def __init__(self, length, width):\\n        self.length = length\\n        self.width = width\\n\\n    def area(self):\\n        return self.length * self.width\\n\\n    def perimeter(self):\\n        return 2 * (self.length + self.width)\\n\\nclass Square(Rectangle):\\n    def __init__(self, side):\\n        super().__init__(side, side)',\n",
       "  'issubclass(int, object)',\n",
       "  'class DemoClass:\\n    pass\\n\\nissubclass(DemoClass, object)',\n",
       "  'obj = object()\\ndir(obj)',\n",
       "  'obj = object()\\ndir(obj)\\nobj.attr = \"Some Value\"',\n",
       "  'from time import sleep\\n\\nSENTINEL = object()\\n\\nclass Circle:\\n    def __init__(self, radius):\\n        self.radius = radius\\n        self._diameter = SENTINEL\\n\\n    @property\\n    def diamter(self):\\n        if self._diameter is SENTINEL:\\n            sleep(0.5) # simulate a costly computation\\n            self._diamter = self.radius * 2\\n        return self._diameter',\n",
       "  'def add(a, b):\\n    result = a + b\\n    print(locals())\\n    return result\\n\\nadd(2, 3)',\n",
       "  'globals()'],\n",
       " '_oh': {1: type,\n",
       "  2: 'ok',\n",
       "  3: [{'product': 'Laptop', 'price': '1200', 'sold_units': '30'},\n",
       "   {'product': 'Phone', 'price': '700', 'sold_units': '50'},\n",
       "   {'product': 'Tablet', 'price': '450', 'sold_units': '100'},\n",
       "   {'product': 'Desktop', 'price': '1000', 'sold_units': '20'},\n",
       "   {'product': 'Monitor', 'price': '300', 'sold_units': '50'}],\n",
       "  4: processors.FileProcessor,\n",
       "  5: int,\n",
       "  6: processors.FileProcessor,\n",
       "  7: 'ok',\n",
       "  9: 'ok',\n",
       "  13: 'john@example.com',\n",
       "  14: 200.0,\n",
       "  15: True,\n",
       "  16: False,\n",
       "  17: True,\n",
       "  18: 'ok',\n",
       "  19: True,\n",
       "  20: True,\n",
       "  21: False,\n",
       "  22: True,\n",
       "  23: True,\n",
       "  24: False,\n",
       "  25: 'ok',\n",
       "  26: 'ok',\n",
       "  28: 'ok',\n",
       "  29: {'name': 'John', 'age': 30},\n",
       "  30: 'ok',\n",
       "  31: <__main__.CommandProcessor at 0x1d0e3d78c20>,\n",
       "  32: 'ok',\n",
       "  34: 3,\n",
       "  35: 'ok',\n",
       "  36: 'ok',\n",
       "  37: True,\n",
       "  38: True,\n",
       "  39: ['__class__',\n",
       "   '__delattr__',\n",
       "   '__dir__',\n",
       "   '__doc__',\n",
       "   '__eq__',\n",
       "   '__format__',\n",
       "   '__ge__',\n",
       "   '__getattribute__',\n",
       "   '__getstate__',\n",
       "   '__gt__',\n",
       "   '__hash__',\n",
       "   '__init__',\n",
       "   '__init_subclass__',\n",
       "   '__le__',\n",
       "   '__lt__',\n",
       "   '__ne__',\n",
       "   '__new__',\n",
       "   '__reduce__',\n",
       "   '__reduce_ex__',\n",
       "   '__repr__',\n",
       "   '__setattr__',\n",
       "   '__sizeof__',\n",
       "   '__str__',\n",
       "   '__subclasshook__'],\n",
       "  40: 'ok',\n",
       "  41: 'ok',\n",
       "  42: 5,\n",
       "  43: 'ok'},\n",
       " '_dh': [WindowsPath('j:/My Drive/ESL/PythonLearning/l5')],\n",
       " 'In': ['',\n",
       "  'type(42)\\ntype',\n",
       "  'type(42)\\ntype(file_proc)',\n",
       "  'from processors import FileProcessor\\nfrom processors import CSVProcessor\\n\\nfile_proc = FileProcessor(\"products.csv\", CSVProcessor)\\nfile_proc.read()',\n",
       "  'type(42)\\ntype(file_proc)',\n",
       "  'type(42)\\n#type(file_proc)',\n",
       "  'type(42) # int\\ntype(file_proc)',\n",
       "  'def create_class(name, custom_members):\\n    \"\"\"\\n    Args:\\n        name (string): a valid class name\\n        custom_members (dict): a dictionary of attributes and methods\\n    \"\"\"\\n    def __init__(self, **kwargs):\\n        self.__dict__.update(kwargs)\\n\\n    def __repr__(self):\\n        return f\"{name}({self.__dict__})\"\\n\\n    class_members = {\\n        \"__init__\": __init__,\\n        \"repr__\": __repr__,\\n    }\\n    class_members.update(custorm_members)\\n\\n    return type(name, (), class_members)',\n",
       "  'def create_class(name, custom_members):\\n    \"\"\"\\n    Args:\\n        name (string): a valid class name\\n        custom_members (dict): a dictionary of attributes and methods\\n    \"\"\"\\n    # class initializer\\n    def __init__(self, **kwargs):\\n        self.__dict__.update(kwargs)\\n\\n    # string representation\\n    def __repr__(self):\\n        return f\"{name}({self.__dict__})\"\\n\\n    # a dictionary that includes the attributes/methods\\n    class_members = {\\n        \"__init__\": __init__,\\n        \"repr__\": __repr__,\\n    }\\n    class_members.update(custorm_members)\\n\\n    # KEY component: generate the class with the provided name/attribute/method\\n    return type(name, (), class_members)',\n",
       "  'user = create_class(\"User\", {\"name\": \"\", \"age\": 0, \"email\": \"\"})',\n",
       "  'def create_class(name, custom_members):\\n    \"\"\"\\n    Args:\\n        name (string): a valid class name\\n        custom_members (dict): a dictionary of attributes and methods\\n    \"\"\"\\n    # class initializer\\n    def __init__(self, **kwargs):\\n        self.__dict__.update(kwargs)\\n\\n    # string representation\\n    def __repr__(self):\\n        return f\"{name}({self.__dict__})\"\\n\\n    # a dictionary that includes the attributes/methods\\n    class_members = {\\n        \"__init__\": __init__,\\n        \"repr__\": __repr__,\\n    }\\n    class_members.update(custom_members)\\n\\n    # KEY component: generate the class with the provided name/attribute/method\\n    return type(name, (), class_members)',\n",
       "  'user = create_class(\"User\", {\"name\": \"\", \"age\": 0, \"email\": \"\"})',\n",
       "  'User = create_class(\"User\", {\"name\": \"\", \"age\": 0, \"email\": \"\"})',\n",
       "  'User = create_class(\"User\", {\"name\": \"\", \"age\": 0, \"email\": \"\"})\\nProduct = create_class(\\n    \"Product\",{\\n        \"name\": \"\",\\n        \"price\": 0.0,\\n        \"units\": 0\\n    }\\n)\\n\\njohn = User(name=\"John\", age=30, email=\"john@example.com\")\\njohn.email',\n",
       "  'User = create_class(\"User\", {\"name\": \"\", \"age\": 0, \"email\": \"\"})\\nProduct = create_class(\\n    \"Product\",{\\n        \"name\": \"\",\\n        \"price\": 0.0,\\n        \"units\": 0\\n    }\\n)\\n\\njohn = User(name=\"John\", age=30, email=\"john@example.com\")\\njohn.email # \\'john@example.com\\'\\n\\ntable = Product(name=\"Table\", price=200.0, units=5)\\ntable.price',\n",
       "  'isinstance(42, int)',\n",
       "  'isinstance(42, float)',\n",
       "  'isinstance(42, int)\\nisinstance(42, (int, float))',\n",
       "  'isinstance(42, int) # True\\nisinstance(42, (int, float)) # check again a tuple: True\\nisinstance(42, int | string)',\n",
       "  'isinstance(42, int) # True\\nisinstance(42, (int, float)) # check again a tuple: True\\nisinstance(42, int | str)',\n",
       "  'issubclass(bool, int)',\n",
       "  'issubclass(bool, int) # True\\nissubclass(int, float)',\n",
       "  'callable(abs)',\n",
       "  'callable(abs) # True\\ncallable(int)',\n",
       "  'callable(abs) # True\\ncallable(int) # True\\ncallable(True)',\n",
       "  'my_dict',\n",
       "  'my_dict= dict(\"name\"=\"John\")',\n",
       "  'my_dict = {\"name\": \"John\"}',\n",
       "  'my_dict = {\"name\": \"John\"}\\nmy_dict[\"age\"] = 30',\n",
       "  'my_dict = {\"name\": \"John\"}\\nmy_dict[\"age\"] = 30\\nmy_dict',\n",
       "  'class CommandProcessor:\\n    def __init__(self):\\n        # constructor\\n        self.commands = {}\\n        # initialize an empty dict to hold command name -> callable\\n\\n    def register_command(self, command):\\n        if not callable(command):\\n            raise ValueError(\"command is not callable\")\\n        self.commands[command.__name__] = command\\n\\n    def execute_command(self, name, *args, **kwards):\\n        if (command := self.commands.get(name)) is None:\\n            raise ValueError(f\"command \\'{name}\\' not found\")\\n        return command(*args, **kwargs)',\n",
       "  'command_processor = CommandProcessor()\\n\\ndef add(a, b):\\n    return a + b\\n\\ncommand_processor.register_command(add)\\ncommand_processor',\n",
       "  'command_processor = CommandProcessor()\\n\\ndef add(a, b):\\n    return a + b\\n\\ncommand_processor.register_command(add)\\ncommand_processor.execute_command(\"add\", 1, 2)',\n",
       "  'class CommandProcessor:\\n    def __init__(self):\\n        # constructor\\n        self.commands = {}\\n        # initialize an empty dict to hold command name -> callable\\n\\n    def register_command(self, command):\\n        if not callable(command):\\n            raise ValueError(\"command is not callable\")\\n        self.commands[command.__name__] = command\\n\\n    def execute_command(self, name, *args, **kwargs):\\n        if (command := self.commands.get(name)) is None:\\n            raise ValueError(f\"command \\'{name}\\' not found\")\\n        return command(*args, **kwargs)',\n",
       "  'command_processor = CommandProcessor()\\n\\ndef add(a, b):\\n    return a + b\\n\\ncommand_processor.register_command(add)\\ncommand_processor.execute_command(\"add\", 1, 2)',\n",
       "  'command_processor = CommandProcessor()\\n\\ndef add(a, b):\\n    return a + b\\n\\ncommand_processor.register_command(add)\\ncommand_processor.execute_command(\"add\", 1, 2) # 3\\ncommand_processor.execute_command(\"subtract\", 1, 2)',\n",
       "  'class Rectangle:\\n    def __init__(self, length, width):\\n        self.length = length\\n        self.width = width\\n\\n    def area(self):\\n        return self.length * self.width\\n\\n    def perimeter(self):\\n        return 2 * (self.length + self.width)\\n\\nclass Square(Rectangle):\\n    def __init__(self, side):\\n        super().__init__(side, side)',\n",
       "  'issubclass(int, object)',\n",
       "  'class DemoClass:\\n    pass\\n\\nissubclass(DemoClass, object)',\n",
       "  'obj = object()\\ndir(obj)',\n",
       "  'obj = object()\\ndir(obj)\\nobj.attr = \"Some Value\"',\n",
       "  'from time import sleep\\n\\nSENTINEL = object()\\n\\nclass Circle:\\n    def __init__(self, radius):\\n        self.radius = radius\\n        self._diameter = SENTINEL\\n\\n    @property\\n    def diamter(self):\\n        if self._diameter is SENTINEL:\\n            sleep(0.5) # simulate a costly computation\\n            self._diamter = self.radius * 2\\n        return self._diameter',\n",
       "  'def add(a, b):\\n    result = a + b\\n    print(locals())\\n    return result\\n\\nadd(2, 3)',\n",
       "  'globals()'],\n",
       " 'Out': {1: type,\n",
       "  2: 'ok',\n",
       "  3: [{'product': 'Laptop', 'price': '1200', 'sold_units': '30'},\n",
       "   {'product': 'Phone', 'price': '700', 'sold_units': '50'},\n",
       "   {'product': 'Tablet', 'price': '450', 'sold_units': '100'},\n",
       "   {'product': 'Desktop', 'price': '1000', 'sold_units': '20'},\n",
       "   {'product': 'Monitor', 'price': '300', 'sold_units': '50'}],\n",
       "  4: processors.FileProcessor,\n",
       "  5: int,\n",
       "  6: processors.FileProcessor,\n",
       "  7: 'ok',\n",
       "  9: 'ok',\n",
       "  13: 'john@example.com',\n",
       "  14: 200.0,\n",
       "  15: True,\n",
       "  16: False,\n",
       "  17: True,\n",
       "  18: 'ok',\n",
       "  19: True,\n",
       "  20: True,\n",
       "  21: False,\n",
       "  22: True,\n",
       "  23: True,\n",
       "  24: False,\n",
       "  25: 'ok',\n",
       "  26: 'ok',\n",
       "  28: 'ok',\n",
       "  29: {'name': 'John', 'age': 30},\n",
       "  30: 'ok',\n",
       "  31: <__main__.CommandProcessor at 0x1d0e3d78c20>,\n",
       "  32: 'ok',\n",
       "  34: 3,\n",
       "  35: 'ok',\n",
       "  36: 'ok',\n",
       "  37: True,\n",
       "  38: True,\n",
       "  39: ['__class__',\n",
       "   '__delattr__',\n",
       "   '__dir__',\n",
       "   '__doc__',\n",
       "   '__eq__',\n",
       "   '__format__',\n",
       "   '__ge__',\n",
       "   '__getattribute__',\n",
       "   '__getstate__',\n",
       "   '__gt__',\n",
       "   '__hash__',\n",
       "   '__init__',\n",
       "   '__init_subclass__',\n",
       "   '__le__',\n",
       "   '__lt__',\n",
       "   '__ne__',\n",
       "   '__new__',\n",
       "   '__reduce__',\n",
       "   '__reduce_ex__',\n",
       "   '__repr__',\n",
       "   '__setattr__',\n",
       "   '__sizeof__',\n",
       "   '__str__',\n",
       "   '__subclasshook__'],\n",
       "  40: 'ok',\n",
       "  41: 'ok',\n",
       "  42: 5,\n",
       "  43: 'ok'},\n",
       " 'get_ipython': <bound method InteractiveShell.get_ipython of <ipykernel.zmqshell.ZMQInteractiveShell object at 0x000001D0E331B620>>,\n",
       " 'exit': <IPython.core.autocall.ZMQExitAutocall at 0x1d0e33c0ec0>,\n",
       " 'quit': <IPython.core.autocall.ZMQExitAutocall at 0x1d0e33c0ec0>,\n",
       " 'open': <function _io.open(file, mode='r', buffering=-1, encoding=None, errors=None, newline=None, closefd=True, opener=None)>,\n",
       " '_': 'ok',\n",
       " '__': 'ok',\n",
       " '___': 'ok',\n",
       " '__vsc_ipynb_file__': 'j:\\\\My Drive\\\\ESL\\\\PythonLearning\\\\l5\\\\function.ipynb',\n",
       " '__DW_SCOPE__': {'output_cache': {},\n",
       "  'output-4f221399-83ae-4d39-a478-140fc3a808e6': {'enable_for_types': <function __main__.__DW_OUTPUT_FORMATTER__.<locals>.enable_formatter_for_types(*args)>,\n",
       "   'disable': <function __main__.__DW_OUTPUT_FORMATTER__.<locals>.disable_formatter()>}},\n",
       " '_i': 'def add(a, b):\\n    result = a + b\\n    print(locals())\\n    return result\\n\\nadd(2, 3)',\n",
       " '_ii': 'from time import sleep\\n\\nSENTINEL = object()\\n\\nclass Circle:\\n    def __init__(self, radius):\\n        self.radius = radius\\n        self._diameter = SENTINEL\\n        \\n    @property\\n    def diamter(self):\\n        if self._diameter is SENTINEL:\\n            sleep(0.5) # simulate a costly computation\\n            self._diamter = self.radius * 2\\n        return self._diameter',\n",
       " '_iii': 'obj = object()\\ndir(obj)\\nobj.attr = \"Some Value\"',\n",
       " '_i1': 'type(42)\\ntype',\n",
       " '_1': type,\n",
       " '_2': 'ok',\n",
       " '_i2': 'type(42)\\ntype(file_proc)',\n",
       " '_i3': 'from processors import FileProcessor\\nfrom processors import CSVProcessor\\n\\nfile_proc = FileProcessor(\"products.csv\", CSVProcessor)\\nfile_proc.read()',\n",
       " 'FileProcessor': processors.FileProcessor,\n",
       " 'CSVProcessor': processors.CSVProcessor,\n",
       " 'file_proc': <processors.FileProcessor at 0x1d0e354ea50>,\n",
       " '_3': [{'product': 'Laptop', 'price': '1200', 'sold_units': '30'},\n",
       "  {'product': 'Phone', 'price': '700', 'sold_units': '50'},\n",
       "  {'product': 'Tablet', 'price': '450', 'sold_units': '100'},\n",
       "  {'product': 'Desktop', 'price': '1000', 'sold_units': '20'},\n",
       "  {'product': 'Monitor', 'price': '300', 'sold_units': '50'}],\n",
       " '_i4': 'type(42)\\ntype(file_proc)',\n",
       " '_4': processors.FileProcessor,\n",
       " '_i5': 'type(42)\\n#type(file_proc)',\n",
       " '_5': int,\n",
       " '_i6': 'type(42) # int\\ntype(file_proc)',\n",
       " '_6': processors.FileProcessor,\n",
       " '_7': 'ok',\n",
       " '_i7': 'def create_class(name, custom_members):\\n    \"\"\"\\n    Args:\\n        name (string): a valid class name\\n        custom_members (dict): a dictionary of attributes and methods\\n    \"\"\"\\n    def __init__(self, **kwargs):\\n        self.__dict__.update(kwargs)\\n    \\n    def __repr__(self):\\n        return f\"{name}({self.__dict__})\"\\n    \\n    class_members = {\\n        \"__init__\": __init__,\\n        \"repr__\": __repr__,\\n    }\\n    class_members.update(custorm_members)\\n    \\n    return type(name, (), class_members)',\n",
       " 'create_class': <function __main__.create_class(name, custom_members)>,\n",
       " '_i8': 'def create_class(name, custom_members):\\n    \"\"\"\\n    Args:\\n        name (string): a valid class name\\n        custom_members (dict): a dictionary of attributes and methods\\n    \"\"\"\\n    # class initializer\\n    def __init__(self, **kwargs):\\n        self.__dict__.update(kwargs)\\n    \\n    # string representation\\n    def __repr__(self):\\n        return f\"{name}({self.__dict__})\"\\n    \\n    # a dictionary that includes the attributes/methods\\n    class_members = {\\n        \"__init__\": __init__,\\n        \"repr__\": __repr__,\\n    }\\n    class_members.update(custorm_members)\\n    \\n    # KEY component: generate the class with the provided name/attribute/method\\n    return type(name, (), class_members)',\n",
       " '_9': 'ok',\n",
       " '_i9': 'user = create_class(\"User\", {\"name\": \"\", \"age\": 0, \"email\": \"\"})',\n",
       " '_i10': 'def create_class(name, custom_members):\\n    \"\"\"\\n    Args:\\n        name (string): a valid class name\\n        custom_members (dict): a dictionary of attributes and methods\\n    \"\"\"\\n    # class initializer\\n    def __init__(self, **kwargs):\\n        self.__dict__.update(kwargs)\\n    \\n    # string representation\\n    def __repr__(self):\\n        return f\"{name}({self.__dict__})\"\\n    \\n    # a dictionary that includes the attributes/methods\\n    class_members = {\\n        \"__init__\": __init__,\\n        \"repr__\": __repr__,\\n    }\\n    class_members.update(custom_members)\\n    \\n    # KEY component: generate the class with the provided name/attribute/method\\n    return type(name, (), class_members)',\n",
       " '_i11': 'user = create_class(\"User\", {\"name\": \"\", \"age\": 0, \"email\": \"\"})',\n",
       " 'user': __main__.User,\n",
       " '_i12': 'User = create_class(\"User\", {\"name\": \"\", \"age\": 0, \"email\": \"\"})',\n",
       " 'User': __main__.User,\n",
       " '_13': 'john@example.com',\n",
       " '_i13': 'User = create_class(\"User\", {\"name\": \"\", \"age\": 0, \"email\": \"\"})\\nProduct = create_class(\\n    \"Product\",{\\n        \"name\": \"\",\\n        \"price\": 0.0,\\n        \"units\": 0\\n    }\\n)\\n\\njohn = User(name=\"John\", age=30, email=\"john@example.com\")\\njohn.email',\n",
       " 'Product': __main__.Product,\n",
       " 'john': <__main__.User at 0x1d0e354f8c0>,\n",
       " '_14': 200.0,\n",
       " '_i14': 'User = create_class(\"User\", {\"name\": \"\", \"age\": 0, \"email\": \"\"})\\nProduct = create_class(\\n    \"Product\",{\\n        \"name\": \"\",\\n        \"price\": 0.0,\\n        \"units\": 0\\n    }\\n)\\n\\njohn = User(name=\"John\", age=30, email=\"john@example.com\")\\njohn.email # \\'john@example.com\\'\\n\\ntable = Product(name=\"Table\", price=200.0, units=5)\\ntable.price',\n",
       " 'table': <__main__.Product at 0x1d0e354fb60>,\n",
       " '_15': True,\n",
       " '_i15': 'isinstance(42, int)',\n",
       " '_i16': 'isinstance(42, float)',\n",
       " '_16': False,\n",
       " '_17': True,\n",
       " '_i17': 'isinstance(42, int)\\nisinstance(42, (int, float))',\n",
       " '_18': 'ok',\n",
       " '_i18': 'isinstance(42, int) # True\\nisinstance(42, (int, float)) # check again a tuple: True\\nisinstance(42, int | string)',\n",
       " '_i19': 'isinstance(42, int) # True\\nisinstance(42, (int, float)) # check again a tuple: True\\nisinstance(42, int | str)',\n",
       " '_19': True,\n",
       " '_20': True,\n",
       " '_i20': 'issubclass(bool, int)',\n",
       " '_21': False,\n",
       " '_i21': 'issubclass(bool, int) # True\\nissubclass(int, float)',\n",
       " '_22': True,\n",
       " '_i22': 'callable(abs)',\n",
       " '_23': True,\n",
       " '_i23': 'callable(abs) # True\\ncallable(int)',\n",
       " '_24': False,\n",
       " '_i24': 'callable(abs) # True\\ncallable(int) # True\\ncallable(True)',\n",
       " '_25': 'ok',\n",
       " '_i25': 'my_dict',\n",
       " '_26': 'ok',\n",
       " '_i26': 'my_dict= dict(\"name\"=\"John\")',\n",
       " '_i27': 'my_dict = {\"name\": \"John\"}',\n",
       " 'my_dict': {'name': 'John', 'age': 30},\n",
       " '_28': 'ok',\n",
       " '_i28': 'my_dict = {\"name\": \"John\"}\\nmy_dict[\"age\"] = 30',\n",
       " '_29': {'name': 'John', 'age': 30},\n",
       " '_i29': 'my_dict = {\"name\": \"John\"}\\nmy_dict[\"age\"] = 30\\nmy_dict',\n",
       " '_30': 'ok',\n",
       " '_i30': 'class CommandProcessor:\\n    def __init__(self):\\n        # constructor\\n        self.commands = {}\\n        # initialize an empty dict to hold command name -> callable\\n        \\n    def register_command(self, command):\\n        if not callable(command):\\n            raise ValueError(\"command is not callable\")\\n        self.commands[command.__name__] = command\\n        \\n    def execute_command(self, name, *args, **kwards):\\n        if (command := self.commands.get(name)) is None:\\n            raise ValueError(f\"command \\'{name}\\' not found\")\\n        return command(*args, **kwargs)',\n",
       " 'CommandProcessor': __main__.CommandProcessor,\n",
       " '_31': <__main__.CommandProcessor at 0x1d0e3d78c20>,\n",
       " '_i31': 'command_processor = CommandProcessor()\\n\\ndef add(a, b):\\n    return a + b\\n\\ncommand_processor.register_command(add)\\ncommand_processor',\n",
       " 'command_processor': <__main__.CommandProcessor at 0x1d0e3574f50>,\n",
       " 'add': <function __main__.add(a, b)>,\n",
       " '_32': 'ok',\n",
       " '_i32': 'command_processor = CommandProcessor()\\n\\ndef add(a, b):\\n    return a + b\\n\\ncommand_processor.register_command(add)\\ncommand_processor.execute_command(\"add\", 1, 2)',\n",
       " '_i33': 'class CommandProcessor:\\n    def __init__(self):\\n        # constructor\\n        self.commands = {}\\n        # initialize an empty dict to hold command name -> callable\\n        \\n    def register_command(self, command):\\n        if not callable(command):\\n            raise ValueError(\"command is not callable\")\\n        self.commands[command.__name__] = command\\n        \\n    def execute_command(self, name, *args, **kwargs):\\n        if (command := self.commands.get(name)) is None:\\n            raise ValueError(f\"command \\'{name}\\' not found\")\\n        return command(*args, **kwargs)',\n",
       " '_i34': 'command_processor = CommandProcessor()\\n\\ndef add(a, b):\\n    return a + b\\n\\ncommand_processor.register_command(add)\\ncommand_processor.execute_command(\"add\", 1, 2)',\n",
       " '_34': 3,\n",
       " '_35': 'ok',\n",
       " '_i35': 'command_processor = CommandProcessor()\\n\\ndef add(a, b):\\n    return a + b\\n\\ncommand_processor.register_command(add)\\ncommand_processor.execute_command(\"add\", 1, 2) # 3\\ncommand_processor.execute_command(\"subtract\", 1, 2)',\n",
       " '_36': 'ok',\n",
       " '_i36': 'class Rectangle:\\n    def __init__(self, length, width):\\n        self.length = length\\n        self.width = width\\n    \\n    def area(self):\\n        return self.length * self.width\\n    \\n    def perimeter(self):\\n        return 2 * (self.length + self.width)\\n    \\nclass Square(Rectangle):\\n    def __init__(self, side):\\n        super().__init__(side, side)',\n",
       " 'Rectangle': __main__.Rectangle,\n",
       " 'Square': __main__.Square,\n",
       " '_37': True,\n",
       " '_i37': 'issubclass(int, object)',\n",
       " '_38': True,\n",
       " '_i38': 'class DemoClass:\\n    pass\\n\\nissubclass(DemoClass, object)',\n",
       " 'DemoClass': __main__.DemoClass,\n",
       " '_39': ['__class__',\n",
       "  '__delattr__',\n",
       "  '__dir__',\n",
       "  '__doc__',\n",
       "  '__eq__',\n",
       "  '__format__',\n",
       "  '__ge__',\n",
       "  '__getattribute__',\n",
       "  '__getstate__',\n",
       "  '__gt__',\n",
       "  '__hash__',\n",
       "  '__init__',\n",
       "  '__init_subclass__',\n",
       "  '__le__',\n",
       "  '__lt__',\n",
       "  '__ne__',\n",
       "  '__new__',\n",
       "  '__reduce__',\n",
       "  '__reduce_ex__',\n",
       "  '__repr__',\n",
       "  '__setattr__',\n",
       "  '__sizeof__',\n",
       "  '__str__',\n",
       "  '__subclasshook__'],\n",
       " '_i39': 'obj = object()\\ndir(obj)',\n",
       " 'obj': <object at 0x1d0e39c3390>,\n",
       " '_40': 'ok',\n",
       " '_i40': 'obj = object()\\ndir(obj)\\nobj.attr = \"Some Value\"',\n",
       " '_41': 'ok',\n",
       " '_i41': 'from time import sleep\\n\\nSENTINEL = object()\\n\\nclass Circle:\\n    def __init__(self, radius):\\n        self.radius = radius\\n        self._diameter = SENTINEL\\n        \\n    @property\\n    def diamter(self):\\n        if self._diameter is SENTINEL:\\n            sleep(0.5) # simulate a costly computation\\n            self._diamter = self.radius * 2\\n        return self._diameter',\n",
       " 'sleep': <function time.sleep(object, /)>,\n",
       " 'SENTINEL': <object at 0x1d0e39c32b0>,\n",
       " 'Circle': __main__.Circle,\n",
       " '_42': 5,\n",
       " '_i42': 'def add(a, b):\\n    result = a + b\\n    print(locals())\\n    return result\\n\\nadd(2, 3)',\n",
       " '_43': 'ok',\n",
       " '_i43': 'globals()'}"
      ]
     },
     "execution_count": 43,
     "metadata": {},
     "output_type": "execute_result"
    }
   ],
   "source": [
    "globals()"
   ]
  },
  {
   "cell_type": "code",
   "execution_count": 44,
   "id": "85f435f3",
   "metadata": {},
   "outputs": [
    {
     "data": {
      "text/plain": [
       "140722548431048"
      ]
     },
     "execution_count": 44,
     "metadata": {},
     "output_type": "execute_result"
    }
   ],
   "source": [
    "id(42)"
   ]
  },
  {
   "cell_type": "code",
   "execution_count": 46,
   "id": "cc55646f",
   "metadata": {},
   "outputs": [
    {
     "data": {
      "text/plain": [
       "1996660756320"
      ]
     },
     "execution_count": 46,
     "metadata": {},
     "output_type": "execute_result"
    }
   ],
   "source": [
    "class DemoClass:\n",
    "    pass\n",
    "\n",
    "id(DemoClass)"
   ]
  },
  {
   "cell_type": "code",
   "execution_count": 48,
   "id": "c6ee2506",
   "metadata": {},
   "outputs": [],
   "source": [
    "# Module file: fibonacci.py\n",
    "\n",
    "class Fibonaccish:\n",
    "    def __init__(self, initial_value=1):\n",
    "        self._cache = [0, initial_value]\n",
    "        \n",
    "    def __call__(self, index):\n",
    "        if index < len(self._cache):\n",
    "            fib_number = self._cache[index]\n",
    "            print(f\"{index} {fib_number} id = {id({fib_number})}\")\n",
    "        else:\n",
    "            fib_number = self(index-1) + self(index-2)\n",
    "            self._cache.append(fib_number)\n",
    "        return fib_number"
   ]
  },
  {
   "cell_type": "code",
   "execution_count": 54,
   "id": "dca9e5dd",
   "metadata": {},
   "outputs": [
    {
     "name": "stdout",
     "output_type": "stream",
     "text": [
      "1 333 id = 1996688609952\n",
      "0 0 id = 1996688612640\n",
      "2 333 id = 1996688612640\n",
      "1 333 id = 1996688612640\n",
      "2 333 id = 1996688612640\n"
     ]
    },
    {
     "data": {
      "text/plain": [
       "999"
      ]
     },
     "execution_count": 54,
     "metadata": {},
     "output_type": "execute_result"
    }
   ],
   "source": [
    "fibnoacci_333 = Fibonaccish(333)\n",
    "fibnoacci_333 # <__main__.Fibonaccish at 0x1d0e3dad950>\n",
    "fibnoacci_333(2)\n",
    "fibnoacci_333(4)"
   ]
  },
  {
   "cell_type": "code",
   "execution_count": 57,
   "id": "5e2d31da",
   "metadata": {},
   "outputs": [
    {
     "data": {
      "text/plain": [
       "{'_cache': [0, 333, 333, 666, 999]}"
      ]
     },
     "execution_count": 57,
     "metadata": {},
     "output_type": "execute_result"
    }
   ],
   "source": [
    "vars(fibnoacci_333)"
   ]
  },
  {
   "cell_type": "code",
   "execution_count": 58,
   "id": "59c0c904",
   "metadata": {},
   "outputs": [
    {
     "data": {
      "text/plain": [
       "103.5"
      ]
     },
     "execution_count": 58,
     "metadata": {},
     "output_type": "execute_result"
    }
   ],
   "source": [
    "my_formula = \"sum([2, 3, 4, 5]) / 4 + 100\"\n",
    "eval(my_formula)"
   ]
  },
  {
   "cell_type": "code",
   "execution_count": 62,
   "id": "5974be62",
   "metadata": {},
   "outputs": [
    {
     "data": {
      "text/plain": [
       "2"
      ]
     },
     "execution_count": 62,
     "metadata": {},
     "output_type": "execute_result"
    }
   ],
   "source": [
    "my_functions = [\n",
    "    \"def add(a, b): return a + b\",\n",
    "    \"def subtract(a, b): return a - b\"\n",
    "]\n",
    "\n",
    "for function in my_functions:\n",
    "    exec(function)\n",
    "    \n",
    "subtract(10, 8)"
   ]
  },
  {
   "cell_type": "code",
   "execution_count": null,
   "id": "862a2370",
   "metadata": {},
   "outputs": [
    {
     "data": {
      "text/plain": [
       "['__builtins__', 'iterable', 'result']"
      ]
     },
     "execution_count": 71,
     "metadata": {},
     "output_type": "execute_result"
    }
   ],
   "source": [
    "# sum of even numbers from an iterable\n",
    "my_code = \"\"\"\n",
    "result = sum(number for number in iterable if not number % 2)\n",
    "\"\"\"\n",
    "\n",
    "# <string> is the filename shown in tracebacks (useful for error messages)\n",
    "mycompiled_code = compile(my_code, \"<string>\", \"exec\")\n",
    "\n",
    "# Prepare a globals dictionary\n",
    "context = {\"iterable\": [1, 2, 3, 4]}\n",
    "\n",
    "# Specify globals using context\n",
    "exec(mycompiled_code, context)\n",
    "\n",
    "context[\"result\"]\n",
    "\n",
    "# Examine the list of names currently in the context\n",
    "sorted(context.keys())"
   ]
  },
  {
   "cell_type": "code",
   "execution_count": null,
   "id": "ffc12266",
   "metadata": {},
   "outputs": [],
   "source": []
  }
 ],
 "metadata": {
  "kernelspec": {
   "display_name": ".venv",
   "language": "python",
   "name": "python3"
  },
  "language_info": {
   "codemirror_mode": {
    "name": "ipython",
    "version": 3
   },
   "file_extension": ".py",
   "mimetype": "text/x-python",
   "name": "python",
   "nbconvert_exporter": "python",
   "pygments_lexer": "ipython3",
   "version": "3.13.7"
  }
 },
 "nbformat": 4,
 "nbformat_minor": 5
}
